{
  "nbformat": 4,
  "nbformat_minor": 0,
  "metadata": {
    "colab": {
      "provenance": [],
      "authorship_tag": "ABX9TyOCp1w5AlVrsfISB0LesJjJ",
      "include_colab_link": true
    },
    "kernelspec": {
      "name": "python3",
      "display_name": "Python 3"
    },
    "language_info": {
      "name": "python"
    }
  },
  "cells": [
    {
      "cell_type": "markdown",
      "metadata": {
        "id": "view-in-github",
        "colab_type": "text"
      },
      "source": [
        "<a href=\"https://colab.research.google.com/github/Yusuprozimemet/qpAdm_on_Colab/blob/main/qpAdm_livingDNA.ipynb\" target=\"_parent\"><img src=\"https://colab.research.google.com/assets/colab-badge.svg\" alt=\"Open In Colab\"/></a>"
      ]
    },
    {
      "cell_type": "code",
      "execution_count": 1,
      "metadata": {
        "colab": {
          "base_uri": "https://localhost:8080/"
        },
        "id": "uTNeL6zXKxXL",
        "outputId": "d3807bfe-ad99-4d25-af57-94b63d7e4b37"
      },
      "outputs": [
        {
          "output_type": "stream",
          "name": "stdout",
          "text": [
            "\r0% [Working]\r            \rGet:1 https://cloud.r-project.org/bin/linux/ubuntu jammy-cran40/ InRelease [3,626 B]\n",
            "Hit:2 https://developer.download.nvidia.com/compute/cuda/repos/ubuntu2204/x86_64  InRelease\n",
            "Get:3 http://security.ubuntu.com/ubuntu jammy-security InRelease [129 kB]\n",
            "Hit:4 http://archive.ubuntu.com/ubuntu jammy InRelease\n",
            "Ign:5 https://r2u.stat.illinois.edu/ubuntu jammy InRelease\n",
            "Get:6 http://archive.ubuntu.com/ubuntu jammy-updates InRelease [128 kB]\n",
            "Get:7 https://r2u.stat.illinois.edu/ubuntu jammy Release [5,713 B]\n",
            "Get:8 https://r2u.stat.illinois.edu/ubuntu jammy Release.gpg [793 B]\n",
            "Hit:9 http://archive.ubuntu.com/ubuntu jammy-backports InRelease\n",
            "Hit:10 https://ppa.launchpadcontent.net/deadsnakes/ppa/ubuntu jammy InRelease\n",
            "Get:11 https://ppa.launchpadcontent.net/graphics-drivers/ppa/ubuntu jammy InRelease [24.3 kB]\n",
            "Hit:12 https://ppa.launchpadcontent.net/ubuntugis/ppa/ubuntu jammy InRelease\n",
            "Get:13 https://r2u.stat.illinois.edu/ubuntu jammy/main amd64 Packages [2,546 kB]\n",
            "Get:14 http://archive.ubuntu.com/ubuntu jammy-updates/main amd64 Packages [2,299 kB]\n",
            "Get:15 https://r2u.stat.illinois.edu/ubuntu jammy/main all Packages [8,187 kB]\n",
            "Get:16 http://archive.ubuntu.com/ubuntu jammy-updates/universe amd64 Packages [1,411 kB]\n",
            "Get:17 http://archive.ubuntu.com/ubuntu jammy-updates/restricted amd64 Packages [2,728 kB]\n",
            "Get:18 http://security.ubuntu.com/ubuntu jammy-security/main amd64 Packages [2,034 kB]\n",
            "Get:19 http://security.ubuntu.com/ubuntu jammy-security/universe amd64 Packages [1,127 kB]\n",
            "Get:20 http://security.ubuntu.com/ubuntu jammy-security/restricted amd64 Packages [2,655 kB]\n",
            "Get:21 https://ppa.launchpadcontent.net/graphics-drivers/ppa/ubuntu jammy/main amd64 Packages [48.1 kB]\n",
            "Fetched 23.3 MB in 5s (4,951 kB/s)\n",
            "Reading package lists... Done\n",
            "W: Skipping acquire of configured file 'main/source/Sources' as repository 'https://r2u.stat.illinois.edu/ubuntu jammy InRelease' does not seem to provide it (sources.list entry misspelt?)\n",
            "Reading package lists... Done\n",
            "Building dependency tree... Done\n",
            "Reading state information... Done\n",
            "unzip is already the newest version (6.0-26ubuntu3.2).\n",
            "wget is already the newest version (1.21.2-2ubuntu1.1).\n",
            "0 upgraded, 0 newly installed, 0 to remove and 46 not upgraded.\n",
            "--2024-07-16 07:40:01--  https://github.com/DReichLab/AdmixTools/archive/master.zip\n",
            "Resolving github.com (github.com)... 140.82.112.3\n",
            "Connecting to github.com (github.com)|140.82.112.3|:443... connected.\n",
            "HTTP request sent, awaiting response... 302 Found\n",
            "Location: https://codeload.github.com/DReichLab/AdmixTools/zip/refs/heads/master [following]\n",
            "--2024-07-16 07:40:01--  https://codeload.github.com/DReichLab/AdmixTools/zip/refs/heads/master\n",
            "Resolving codeload.github.com (codeload.github.com)... 140.82.113.10\n",
            "Connecting to codeload.github.com (codeload.github.com)|140.82.113.10|:443... connected.\n",
            "HTTP request sent, awaiting response... 200 OK\n",
            "Length: unspecified [application/zip]\n",
            "Saving to: ‘AdmixTools.zip’\n",
            "\n",
            "AdmixTools.zip          [  <=>               ] 972.09K  2.15MB/s    in 0.4s    \n",
            "\n",
            "2024-07-16 07:40:02 (2.15 MB/s) - ‘AdmixTools.zip’ saved [995420]\n",
            "\n",
            "Archive:  AdmixTools.zip\n",
            "ed1d8579c550253ac748c7a81e625a7eec88fef0\n",
            "   creating: AdmixTools-master/\n",
            "  inflating: AdmixTools-master/.gitignore  \n",
            "  inflating: AdmixTools-master/README  \n",
            "  inflating: AdmixTools-master/README.3PopTest  \n",
            "  inflating: AdmixTools-master/README.CONVERTF  \n",
            "  inflating: AdmixTools-master/README.Dstatistics  \n",
            "  inflating: AdmixTools-master/README.F4RatioTest  \n",
            "  inflating: AdmixTools-master/README.INSTALL  \n",
            "  inflating: AdmixTools-master/README.QPGRAPH  \n",
            "  inflating: AdmixTools-master/README.QpWave  \n",
            "  inflating: AdmixTools-master/README.REXPFIT  \n",
            "  inflating: AdmixTools-master/README.ROLLOFF  \n",
            "  inflating: AdmixTools-master/README.ROLLOFF_OUTPUT  \n",
            "  inflating: AdmixTools-master/README.qp4diff  \n",
            "  inflating: AdmixTools-master/README.qpfstats  \n",
            "   creating: AdmixTools-master/convertf/\n",
            "  inflating: AdmixTools-master/convertf/README  \n",
            "  inflating: AdmixTools-master/convertf/example.ancestrymapgeno  \n",
            " extracting: AdmixTools-master/convertf/example.bed  \n",
            "  inflating: AdmixTools-master/convertf/example.eigenstratgeno  \n",
            "  inflating: AdmixTools-master/convertf/example.ind  \n",
            "  inflating: AdmixTools-master/convertf/example.ind.packedancestrymap  \n",
            "  inflating: AdmixTools-master/convertf/example.map  \n",
            "  inflating: AdmixTools-master/convertf/example.packedancestrymap  \n",
            "  inflating: AdmixTools-master/convertf/example.packedancestrymapgeno  \n",
            "  inflating: AdmixTools-master/convertf/example.ped  \n",
            "  inflating: AdmixTools-master/convertf/example.pedind  \n",
            "  inflating: AdmixTools-master/convertf/example.pedsnp  \n",
            "  inflating: AdmixTools-master/convertf/example.perl  \n",
            " extracting: AdmixTools-master/convertf/example.pheno  \n",
            "  inflating: AdmixTools-master/convertf/example.snp  \n",
            "  inflating: AdmixTools-master/convertf/example.snp.packedancestrymap  \n",
            "  inflating: AdmixTools-master/convertf/ind2pheno.perl  \n",
            "  inflating: AdmixTools-master/convertf/par.ANCESTRYMAP.EIGENSTRAT  \n",
            "  inflating: AdmixTools-master/convertf/par.EIGENSTRAT.PED  \n",
            "  inflating: AdmixTools-master/convertf/par.PACKEDANCESTRYMAP.ANCESTRYMAP  \n",
            "  inflating: AdmixTools-master/convertf/par.PACKEDPED.PACKEDANCESTRYMAP  \n",
            "  inflating: AdmixTools-master/convertf/par.PED.EIGENSTRAT  \n",
            "  inflating: AdmixTools-master/convertf/par.PED.PACKEDPED  \n",
            "   creating: AdmixTools-master/examples.qpGraph/\n",
            "  inflating: AdmixTools-master/examples.qpGraph/gr1triv  \n",
            "  inflating: AdmixTools-master/examples.qpGraph/gr1x  \n",
            "  inflating: AdmixTools-master/examples.qpGraph/gr1x.oroot  \n",
            " extracting: AdmixTools-master/examples.qpGraph/gr1x:log:nullout  \n",
            "  inflating: AdmixTools-master/examples.qpGraph/par:sim1:gr1triv  \n",
            "  inflating: AdmixTools-master/examples.qpGraph/par:sim1:gr1x  \n",
            "  inflating: AdmixTools-master/examples.qpGraph/par:sim1:gr1x:2  \n",
            "  inflating: AdmixTools-master/examples.qpGraph/par:sim1:gr1x:nullout  \n",
            "  inflating: AdmixTools-master/examples.qpGraph/parsimp.templ  \n",
            "  inflating: AdmixTools-master/examples.qpGraph/parsimp2.templ  \n",
            "  inflating: AdmixTools-master/examples.qpGraph/runit  \n",
            "  inflating: AdmixTools-master/examples.qpGraph/runqpgf  \n",
            "  inflating: AdmixTools-master/examples.qpGraph/runqpgf2  \n",
            "  inflating: AdmixTools-master/examples.qpGraph/runqpreroot  \n",
            "   creating: AdmixTools-master/examples/\n",
            "  inflating: AdmixTools-master/examples/README  \n",
            "  inflating: AdmixTools-master/examples/expfit_Uygur.flog  \n",
            "  inflating: AdmixTools-master/examples/gr1triv:log  \n",
            "  inflating: AdmixTools-master/examples/gr1x:2:log  \n",
            "  inflating: AdmixTools-master/examples/gr1x:log  \n",
            " extracting: AdmixTools-master/examples/left1  \n",
            "  inflating: AdmixTools-master/examples/list_qp3Pop  \n",
            "  inflating: AdmixTools-master/examples/list_qp4diff  \n",
            "  inflating: AdmixTools-master/examples/list_qpBound  \n",
            "  inflating: AdmixTools-master/examples/list_qpDpart  \n",
            " extracting: AdmixTools-master/examples/list_qpDstat  \n",
            "  inflating: AdmixTools-master/examples/list_qpDstat1  \n",
            "  inflating: AdmixTools-master/examples/list_qpF4ratio  \n",
            "  inflating: AdmixTools-master/examples/mklog  \n",
            "  inflating: AdmixTools-master/examples/parRolloff  \n",
            "  inflating: AdmixTools-master/examples/parqp3Pop  \n",
            "  inflating: AdmixTools-master/examples/parqp4diff  \n",
            "  inflating: AdmixTools-master/examples/parqp4diffa  \n",
            "  inflating: AdmixTools-master/examples/parqpAdm  \n",
            "  inflating: AdmixTools-master/examples/parqpBound  \n",
            "  inflating: AdmixTools-master/examples/parqpDpart  \n",
            "  inflating: AdmixTools-master/examples/parqpDstat  \n",
            "  inflating: AdmixTools-master/examples/parqpDstat1  \n",
            "  inflating: AdmixTools-master/examples/parqpF4ratio  \n",
            "  inflating: AdmixTools-master/examples/parqpWave  \n",
            "  inflating: AdmixTools-master/examples/parqpff3  \n",
            "  inflating: AdmixTools-master/examples/plist  \n",
            "  inflating: AdmixTools-master/examples/q1  \n",
            "  inflating: AdmixTools-master/examples/q2  \n",
            "  inflating: AdmixTools-master/examples/qp3Pop.log  \n",
            "  inflating: AdmixTools-master/examples/qp4diff.log  \n",
            "  inflating: AdmixTools-master/examples/qpAdm.log  \n",
            "  inflating: AdmixTools-master/examples/qpBound.log  \n",
            "  inflating: AdmixTools-master/examples/qpDstat.log  \n",
            "  inflating: AdmixTools-master/examples/qpDstat1.log  \n",
            "  inflating: AdmixTools-master/examples/qpF4ratio.log  \n",
            "  inflating: AdmixTools-master/examples/qpWave.log  \n",
            "  inflating: AdmixTools-master/examples/right1  \n",
            "  inflating: AdmixTools-master/examples/rolloff.par  \n",
            " extracting: AdmixTools-master/examples/rolloff.ref  \n",
            " extracting: AdmixTools-master/examples/rolloff.target  \n",
            "  inflating: AdmixTools-master/examples/xx:qp4diff  \n",
            "  inflating: AdmixTools-master/examples/xx:qp4diffa  \n",
            "  inflating: AdmixTools-master/examples/xx:qpff3  \n",
            "  inflating: AdmixTools-master/fancy.txt  \n",
            "  inflating: AdmixTools-master/halfscore.pdf  \n",
            "  inflating: AdmixTools-master/pdoc.pdf  \n",
            "  inflating: AdmixTools-master/pdoc.tex  \n",
            "   creating: AdmixTools-master/perlsrc/\n",
            "  inflating: AdmixTools-master/perlsrc/dof4  \n",
            "  inflating: AdmixTools-master/perlsrc/dof4a  \n",
            "  inflating: AdmixTools-master/perlsrc/getresult  \n",
            "  inflating: AdmixTools-master/perlsrc/jackdiff  \n",
            "  inflating: AdmixTools-master/perlsrc/mkpretty  \n",
            "  inflating: AdmixTools-master/perlsrc/numlines  \n",
            "  inflating: AdmixTools-master/perlsrc/xtractcol  \n",
            "  inflating: AdmixTools-master/perlsrc/xtractcolv  \n",
            "   creating: AdmixTools-master/perlsrc2/\n",
            "  inflating: AdmixTools-master/perlsrc2/dof4  \n",
            "  inflating: AdmixTools-master/perlsrc2/getresult  \n",
            "  inflating: AdmixTools-master/perlsrc2/jackdiff  \n",
            "  inflating: AdmixTools-master/perlsrc2/mkpretty  \n",
            "  inflating: AdmixTools-master/perlsrc2/xtractcol  \n",
            "  inflating: AdmixTools-master/qpGraph_hints.txt  \n",
            "  inflating: AdmixTools-master/qpfs.pdf  \n",
            "   creating: AdmixTools-master/src/\n",
            "  inflating: AdmixTools-master/src/.gitignore  \n",
            "  inflating: AdmixTools-master/src/LICENSE.txt  \n",
            "  inflating: AdmixTools-master/src/Makefile  \n",
            "  inflating: AdmixTools-master/src/Makefile.mac  \n",
            "  inflating: AdmixTools-master/src/add_extern_C.sh  \n",
            "  inflating: AdmixTools-master/src/admutils.c  \n",
            "  inflating: AdmixTools-master/src/admutils.h  \n",
            "  inflating: AdmixTools-master/src/badpairs.h  \n",
            "  inflating: AdmixTools-master/src/convertf.c  \n",
            "  inflating: AdmixTools-master/src/dowtjack.c  \n",
            "  inflating: AdmixTools-master/src/egsubs.c  \n",
            "  inflating: AdmixTools-master/src/egsubs.h  \n",
            "  inflating: AdmixTools-master/src/eigqpsubs.h  \n",
            "  inflating: AdmixTools-master/src/eigsubs.c  \n",
            "  inflating: AdmixTools-master/src/eigsubs.h  \n",
            "  inflating: AdmixTools-master/src/eigx.c  \n",
            "  inflating: AdmixTools-master/src/exclude.c  \n",
            "  inflating: AdmixTools-master/src/exclude.h  \n",
            "  inflating: AdmixTools-master/src/expfit.templ  \n",
            "  inflating: AdmixTools-master/src/f4rank.c  \n",
            "  inflating: AdmixTools-master/src/f4rank.h  \n",
            "  inflating: AdmixTools-master/src/faidx.h  \n",
            "  inflating: AdmixTools-master/src/fitsubs.h  \n",
            "  inflating: AdmixTools-master/src/fourier.c  \n",
            "  inflating: AdmixTools-master/src/fstats.c  \n",
            "  inflating: AdmixTools-master/src/gcount.c  \n",
            "  inflating: AdmixTools-master/src/globals.h  \n",
            "  inflating: AdmixTools-master/src/grabpars.c  \n",
            "  inflating: AdmixTools-master/src/gslkim.c  \n",
            "  inflating: AdmixTools-master/src/gslqp.c  \n",
            "  inflating: AdmixTools-master/src/h2d.c  \n",
            "  inflating: AdmixTools-master/src/h2d.h  \n",
            "  inflating: AdmixTools-master/src/kimf.c  \n",
            "  inflating: AdmixTools-master/src/kimqpg.c  \n",
            "  inflating: AdmixTools-master/src/kimqpr.c  \n",
            "  inflating: AdmixTools-master/src/ldsubs.c  \n",
            "  inflating: AdmixTools-master/src/ldsubs.h  \n",
            "  inflating: AdmixTools-master/src/mcio.c  \n",
            "  inflating: AdmixTools-master/src/mcio.h  \n",
            "  inflating: AdmixTools-master/src/mcmcpars.h  \n",
            "  inflating: AdmixTools-master/src/mergeit.c  \n",
            "  inflating: AdmixTools-master/src/nagqp.c  \n",
            "  inflating: AdmixTools-master/src/nagsubs.c  \n",
            "  inflating: AdmixTools-master/src/nagsubs.h  \n",
            "  inflating: AdmixTools-master/src/nicklib.h  \n",
            "  inflating: AdmixTools-master/src/nicksam.h  \n",
            "   creating: AdmixTools-master/src/nicksrc/\n",
            " extracting: AdmixTools-master/src/nicksrc/.gitignore  \n",
            "  inflating: AdmixTools-master/src/nicksrc/LICENSE.txt  \n",
            "  inflating: AdmixTools-master/src/nicksrc/Makefile  \n",
            "  inflating: AdmixTools-master/src/nicksrc/esttime2.c  \n",
            "  inflating: AdmixTools-master/src/nicksrc/gauss.c  \n",
            "  inflating: AdmixTools-master/src/nicksrc/gcd.c  \n",
            "  inflating: AdmixTools-master/src/nicksrc/gds.c  \n",
            "  inflating: AdmixTools-master/src/nicksrc/getpars.c  \n",
            "  inflating: AdmixTools-master/src/nicksrc/getpars.h  \n",
            "  inflating: AdmixTools-master/src/nicksrc/kimf.c  \n",
            "  inflating: AdmixTools-master/src/nicksrc/linmake  \n",
            "  inflating: AdmixTools-master/src/nicksrc/linsolve.c  \n",
            "  inflating: AdmixTools-master/src/nicksrc/linsubs.c  \n",
            "  inflating: AdmixTools-master/src/nicksrc/linsubs.h  \n",
            "  inflating: AdmixTools-master/src/nicksrc/mptable.h  \n",
            "  inflating: AdmixTools-master/src/nicksrc/nicklib.h  \n",
            "  inflating: AdmixTools-master/src/nicksrc/qdiff  \n",
            "  inflating: AdmixTools-master/src/nicksrc/ranmath.h  \n",
            "  inflating: AdmixTools-master/src/nicksrc/sortit.c  \n",
            "  inflating: AdmixTools-master/src/nicksrc/sortit.h  \n",
            "  inflating: AdmixTools-master/src/nicksrc/statsubs.c  \n",
            "  inflating: AdmixTools-master/src/nicksrc/statsubs.h  \n",
            "  inflating: AdmixTools-master/src/nicksrc/strsubs.c  \n",
            "  inflating: AdmixTools-master/src/nicksrc/strsubs.h  \n",
            "  inflating: AdmixTools-master/src/nicksrc/twtable.h  \n",
            "  inflating: AdmixTools-master/src/nicksrc/vsubs.c  \n",
            "  inflating: AdmixTools-master/src/nicksrc/vsubs.h  \n",
            "  inflating: AdmixTools-master/src/nicksrc/xsearch.c  \n",
            "  inflating: AdmixTools-master/src/nicksrc/xsearch.h  \n",
            "  inflating: AdmixTools-master/src/packit.h  \n",
            "  inflating: AdmixTools-master/src/qfstats1  \n",
            "  inflating: AdmixTools-master/src/qp3Pop.c  \n",
            "  inflating: AdmixTools-master/src/qp4diff.c  \n",
            "  inflating: AdmixTools-master/src/qpAdm.c  \n",
            "  inflating: AdmixTools-master/src/qpBound.c  \n",
            "  inflating: AdmixTools-master/src/qpDpart.c  \n",
            "  inflating: AdmixTools-master/src/qpDstat.c  \n",
            "  inflating: AdmixTools-master/src/qpF4ratio.c  \n",
            "  inflating: AdmixTools-master/src/qpGraph.c  \n",
            "  inflating: AdmixTools-master/src/qpWave.c  \n",
            "  inflating: AdmixTools-master/src/qpdslow.c  \n",
            "  inflating: AdmixTools-master/src/qpff3base.c  \n",
            "  inflating: AdmixTools-master/src/qpfmv.c  \n",
            "  inflating: AdmixTools-master/src/qpfstats.c  \n",
            "  inflating: AdmixTools-master/src/qpgsubs.c  \n",
            "  inflating: AdmixTools-master/src/qpgsubs.h  \n",
            "  inflating: AdmixTools-master/src/qpmix.c  \n",
            "  inflating: AdmixTools-master/src/qpreroot.c  \n",
            "  inflating: AdmixTools-master/src/qpsubs.c  \n",
            "  inflating: AdmixTools-master/src/qpsubs.h  \n",
            "  inflating: AdmixTools-master/src/qpsubsarti.c  \n",
            "  inflating: AdmixTools-master/src/qsubs.h  \n",
            "  inflating: AdmixTools-master/src/regsubs.c  \n",
            "  inflating: AdmixTools-master/src/regsubs.h  \n",
            "  inflating: AdmixTools-master/src/rexpfit.r  \n",
            "  inflating: AdmixTools-master/src/rolloff.c  \n",
            "  inflating: AdmixTools-master/src/rolloffp.c  \n",
            "  inflating: AdmixTools-master/src/simpjack2.c  \n",
            "  inflating: AdmixTools-master/src/strsubs.h  \n",
            "  inflating: AdmixTools-master/src/twtable  \n",
            "  inflating: AdmixTools-master/src/wtjack.pl  \n",
            "  inflating: AdmixTools-master/src/xpsubs.h  \n",
            "  inflating: AdmixTools-master/src/xqpsubs.c  \n"
          ]
        }
      ],
      "source": [
        "!sudo apt-get update\n",
        "!sudo apt-get install wget unzip\n",
        "!wget https://github.com/DReichLab/AdmixTools/archive/master.zip -O AdmixTools.zip\n",
        "!unzip AdmixTools.zip\n"
      ]
    },
    {
      "cell_type": "code",
      "source": [
        "cd AdmixTools-master/src\n"
      ],
      "metadata": {
        "colab": {
          "base_uri": "https://localhost:8080/"
        },
        "id": "DQ0MeF48K8x-",
        "outputId": "653e9f8a-ca29-40af-87bb-a09b448004c3"
      },
      "execution_count": 2,
      "outputs": [
        {
          "output_type": "stream",
          "name": "stdout",
          "text": [
            "/content/AdmixTools-master/src\n"
          ]
        }
      ]
    },
    {
      "cell_type": "code",
      "source": [
        "!sudo apt-get install build-essential\n",
        "!sudo apt-get install libgsl-dev\n",
        "!sudo apt-get install libopenblas-dev\n"
      ],
      "metadata": {
        "colab": {
          "base_uri": "https://localhost:8080/"
        },
        "id": "D5MaDgRnLEzY",
        "outputId": "f5a6719a-c628-4f27-bbae-69553ecd6cc1"
      },
      "execution_count": 3,
      "outputs": [
        {
          "output_type": "stream",
          "name": "stdout",
          "text": [
            "Reading package lists... Done\n",
            "Building dependency tree... Done\n",
            "Reading state information... Done\n",
            "build-essential is already the newest version (12.9ubuntu3).\n",
            "0 upgraded, 0 newly installed, 0 to remove and 46 not upgraded.\n",
            "Reading package lists... Done\n",
            "Building dependency tree... Done\n",
            "Reading state information... Done\n",
            "The following additional packages will be installed:\n",
            "  libgsl27 libgslcblas0\n",
            "Suggested packages:\n",
            "  gsl-ref-psdoc | gsl-doc-pdf | gsl-doc-info | gsl-ref-html\n",
            "The following NEW packages will be installed:\n",
            "  libgsl-dev libgsl27 libgslcblas0\n",
            "0 upgraded, 3 newly installed, 0 to remove and 46 not upgraded.\n",
            "Need to get 2,351 kB of archives.\n",
            "After this operation, 10.8 MB of additional disk space will be used.\n",
            "Get:1 http://archive.ubuntu.com/ubuntu jammy/universe amd64 libgslcblas0 amd64 2.7.1+dfsg-3 [94.4 kB]\n",
            "Get:2 http://archive.ubuntu.com/ubuntu jammy/universe amd64 libgsl27 amd64 2.7.1+dfsg-3 [1,000 kB]\n",
            "Get:3 http://archive.ubuntu.com/ubuntu jammy/universe amd64 libgsl-dev amd64 2.7.1+dfsg-3 [1,257 kB]\n",
            "Fetched 2,351 kB in 1s (2,587 kB/s)\n",
            "debconf: unable to initialize frontend: Dialog\n",
            "debconf: (No usable dialog-like program is installed, so the dialog based frontend cannot be used. at /usr/share/perl5/Debconf/FrontEnd/Dialog.pm line 78, <> line 3.)\n",
            "debconf: falling back to frontend: Readline\n",
            "debconf: unable to initialize frontend: Readline\n",
            "debconf: (This frontend requires a controlling tty.)\n",
            "debconf: falling back to frontend: Teletype\n",
            "dpkg-preconfigure: unable to re-open stdin: \n",
            "Selecting previously unselected package libgslcblas0:amd64.\n",
            "(Reading database ... 123576 files and directories currently installed.)\n",
            "Preparing to unpack .../libgslcblas0_2.7.1+dfsg-3_amd64.deb ...\n",
            "Unpacking libgslcblas0:amd64 (2.7.1+dfsg-3) ...\n",
            "Selecting previously unselected package libgsl27:amd64.\n",
            "Preparing to unpack .../libgsl27_2.7.1+dfsg-3_amd64.deb ...\n",
            "Unpacking libgsl27:amd64 (2.7.1+dfsg-3) ...\n",
            "Selecting previously unselected package libgsl-dev.\n",
            "Preparing to unpack .../libgsl-dev_2.7.1+dfsg-3_amd64.deb ...\n",
            "Unpacking libgsl-dev (2.7.1+dfsg-3) ...\n",
            "Setting up libgslcblas0:amd64 (2.7.1+dfsg-3) ...\n",
            "Setting up libgsl27:amd64 (2.7.1+dfsg-3) ...\n",
            "Setting up libgsl-dev (2.7.1+dfsg-3) ...\n",
            "Processing triggers for man-db (2.10.2-1) ...\n",
            "Processing triggers for libc-bin (2.35-0ubuntu3.4) ...\n",
            "/sbin/ldconfig.real: /usr/local/lib/libtbbmalloc_proxy.so.2 is not a symbolic link\n",
            "\n",
            "/sbin/ldconfig.real: /usr/local/lib/libtbbbind_2_5.so.3 is not a symbolic link\n",
            "\n",
            "/sbin/ldconfig.real: /usr/local/lib/libtbb.so.12 is not a symbolic link\n",
            "\n",
            "/sbin/ldconfig.real: /usr/local/lib/libtbbbind.so.3 is not a symbolic link\n",
            "\n",
            "/sbin/ldconfig.real: /usr/local/lib/libtbbbind_2_0.so.3 is not a symbolic link\n",
            "\n",
            "/sbin/ldconfig.real: /usr/local/lib/libtbbmalloc.so.2 is not a symbolic link\n",
            "\n",
            "Reading package lists... Done\n",
            "Building dependency tree... Done\n",
            "Reading state information... Done\n",
            "libopenblas-dev is already the newest version (0.3.20+ds-1).\n",
            "0 upgraded, 0 newly installed, 0 to remove and 46 not upgraded.\n"
          ]
        }
      ]
    },
    {
      "cell_type": "code",
      "source": [
        "!make clobber\n",
        "!make all\n",
        "!make install\n"
      ],
      "metadata": {
        "colab": {
          "base_uri": "https://localhost:8080/"
        },
        "id": "VXQXZk2YLKml",
        "outputId": "b71d6dc8-6a33-47ad-9285-ce4118967afb"
      },
      "execution_count": 4,
      "outputs": [
        {
          "output_type": "stream",
          "name": "stdout",
          "text": [
            "rm -f *.o \n",
            "rm -f *junk*\n",
            "rm -f core\n",
            "make -C nicksrc clean\n",
            "make[1]: Entering directory '/content/AdmixTools-master/src/nicksrc'\n",
            "rm -f *.o\n",
            "rm -f libnick.a\n",
            "make[1]: Leaving directory '/content/AdmixTools-master/src/nicksrc'\n",
            "rm -f qp3Pop qpDstat qpF4ratio qpAdm qpWave qp4diff qpdslow dowtjack expfit.sh  qpBound qpGraph qpreroot qpff3base qpDpart qpfstats qpfmv qpmix\n",
            "rm -f rolloff rolloffp convertf mergeit simpjack2 grabpars kimf gcount \n",
            "rm -rf /content/AdmixTools-master/src/admixtables \n",
            "rm -f tables\n",
            "rm -f ../bin/*\n",
            "make -C nicksrc\n",
            "make[1]: Entering directory '/content/AdmixTools-master/src/nicksrc'\n",
            "cc -c -g -p -Wimplicit -I./   -c -o strsubs.o strsubs.c\n",
            "cc -c -g -p -Wimplicit -I./   -c -o sortit.o sortit.c\n",
            "cc -c -g -p -Wimplicit -I./   -c -o vsubs.o vsubs.c\n",
            "cc -c -g -p -Wimplicit -I./   -c -o statsubs.o statsubs.c\n",
            "cc -c -g -p -Wimplicit -I./   -c -o linsubs.o linsubs.c\n",
            "cc -c -g -p -Wimplicit -I./   -c -o getpars.o getpars.c\n",
            "cc -c -g -p -Wimplicit -I./   -c -o xsearch.o xsearch.c\n",
            "cc -c -g -p -Wimplicit -I./   -c -o gauss.o gauss.c\n",
            "cc -c -g -p -Wimplicit -I./   -c -o gds.o gds.c\n",
            "ar -r libnick.a strsubs.o sortit.o vsubs.o statsubs.o linsubs.o getpars.o xsearch.o gauss.o gds.o\n",
            "ar: creating libnick.a\n",
            "ranlib libnick.a\n",
            "make[1]: Leaving directory '/content/AdmixTools-master/src/nicksrc'\n",
            "cc -c -g -p -pg -Wimplicit -I./ -I./nicksrc   -c -o qp3Pop.o qp3Pop.c\n",
            "cc -c -g -p -pg -Wimplicit -I./ -I./nicksrc   -c -o qpsubs.o qpsubs.c\n",
            "cc -c -g -p -pg -Wimplicit -I./ -I./nicksrc   -c -o mcio.o mcio.c\n",
            "cc -c -g -p -pg -Wimplicit -I./ -I./nicksrc   -c -o ldsubs.o ldsubs.c\n",
            "cc -c -g -p -pg -Wimplicit -I./ -I./nicksrc   -c -o admutils.o admutils.c\n",
            "\u001b[01m\u001b[Kadmutils.c:\u001b[m\u001b[K In function ‘\u001b[01m\u001b[Ksetid2pops\u001b[m\u001b[K’:\n",
            "\u001b[01m\u001b[Kadmutils.c:1114:28:\u001b[m\u001b[K \u001b[01;35m\u001b[Kwarning: \u001b[m\u001b[Kformat ‘\u001b[01m\u001b[K%s\u001b[m\u001b[K’ expects a matching ‘\u001b[01m\u001b[Kchar *\u001b[m\u001b[K’ argument [\u001b[01;35m\u001b[K\u001b]8;;https://gcc.gnu.org/onlinedocs/gcc/Warning-Options.html#index-Wformat=\u0007-Wformat=\u001b]8;;\u0007\u001b[m\u001b[K]\n",
            " 1114 |     printf(\"(setid2pops): \u001b[01;35m\u001b[K%s\u001b[m\u001b[K not found\\n\") ;\n",
            "      |                           \u001b[01;35m\u001b[K~^\u001b[m\u001b[K\n",
            "      |                            \u001b[01;35m\u001b[K|\u001b[m\u001b[K\n",
            "      |                            \u001b[01;35m\u001b[Kchar *\u001b[m\u001b[K\n",
            "cc -c -g -p -pg -Wimplicit -I./ -I./nicksrc   -c -o egsubs.o egsubs.c\n",
            "cc -c -g -p -pg -Wimplicit -I./ -I./nicksrc   -c -o regsubs.o regsubs.c\n",
            "cc -g  -L./nicksrc  qp3Pop.o nicksrc/libnick.a qpsubs.o mcio.o ldsubs.o admutils.o egsubs.o regsubs.o  -lgsl -lopenblas -lm -lnick -o qp3Pop\n",
            "cc -c -g -p -pg -Wimplicit -I./ -I./nicksrc   -c -o qpDstat.o qpDstat.c\n",
            "cc -g  -L./nicksrc  qpDstat.o nicksrc/libnick.a qpsubs.o mcio.o ldsubs.o admutils.o egsubs.o regsubs.o  -lgsl -lopenblas -lm -lnick -o qpDstat\n",
            "cc -c -g -p -pg -Wimplicit -I./ -I./nicksrc   -c -o qpF4ratio.o qpF4ratio.c\n",
            "cc -g  -L./nicksrc  qpF4ratio.o nicksrc/libnick.a qpsubs.o mcio.o ldsubs.o admutils.o egsubs.o regsubs.o  -lgsl -lopenblas -lm -lnick -o qpF4ratio\n",
            "cc -c -g -p -pg -Wimplicit -I./ -I./nicksrc   -c -o qpAdm.o qpAdm.c\n",
            "\u001b[01m\u001b[KqpAdm.c:\u001b[m\u001b[K In function ‘\u001b[01m\u001b[Kmkfstats\u001b[m\u001b[K’:\n",
            "\u001b[01m\u001b[KqpAdm.c:1797:69:\u001b[m\u001b[K \u001b[01;35m\u001b[Kwarning: \u001b[m\u001b[K‘\u001b[01m\u001b[K%s\u001b[m\u001b[K’ directive writing up to 255 bytes into a region of size 205 [\u001b[01;35m\u001b[K\u001b]8;;https://gcc.gnu.org/onlinedocs/gcc/Warning-Options.html#index-Wformat-overflow=\u0007-Wformat-overflow=\u001b]8;;\u0007\u001b[m\u001b[K]\n",
            " 1797 |  sprintf(sss, \"fgrep -v fstatsoutname: %s | fgrep -v poplistname: > \u001b[01;35m\u001b[K%s\u001b[m\u001b[K\", parname, \u001b[32m\u001b[Ktpar\u001b[m\u001b[K) ;\n",
            "      |                                                                     \u001b[01;35m\u001b[K^~\u001b[m\u001b[K            \u001b[32m\u001b[K~~~~\u001b[m\u001b[K\n",
            "\u001b[01m\u001b[KqpAdm.c:1797:2:\u001b[m\u001b[K \u001b[01;36m\u001b[Knote: \u001b[m\u001b[K‘\u001b[01m\u001b[Ksprintf\u001b[m\u001b[K’ output 52 or more bytes (assuming 307) into a destination of size 256\n",
            " 1797 |  \u001b[01;36m\u001b[Ksprintf(sss, \"fgrep -v fstatsoutname: %s | fgrep -v poplistname: > %s\", parname, tpar)\u001b[m\u001b[K ;\n",
            "      |  \u001b[01;36m\u001b[K^~~~~~~~~~~~~~~~~~~~~~~~~~~~~~~~~~~~~~~~~~~~~~~~~~~~~~~~~~~~~~~~~~~~~~~~~~~~~~~~~~~~~~\u001b[m\u001b[K\n",
            "\u001b[01m\u001b[KqpAdm.c:1811:28:\u001b[m\u001b[K \u001b[01;35m\u001b[Kwarning: \u001b[m\u001b[K‘\u001b[01m\u001b[K%s\u001b[m\u001b[K’ directive writing up to 255 bytes into a region of size 244 [\u001b[01;35m\u001b[K\u001b]8;;https://gcc.gnu.org/onlinedocs/gcc/Warning-Options.html#index-Wformat-overflow=\u0007-Wformat-overflow=\u001b]8;;\u0007\u001b[m\u001b[K]\n",
            " 1811 |  sprintf(sss, \"qpfstats -p \u001b[01;35m\u001b[K%s\u001b[m\u001b[K > %s\", \u001b[32m\u001b[Kppp\u001b[m\u001b[K, fslog) ;\n",
            "      |                            \u001b[01;35m\u001b[K^~\u001b[m\u001b[K        \u001b[32m\u001b[K~~~\u001b[m\u001b[K\n",
            "\u001b[01m\u001b[KqpAdm.c:1811:2:\u001b[m\u001b[K \u001b[01;36m\u001b[Knote: \u001b[m\u001b[K‘\u001b[01m\u001b[Ksprintf\u001b[m\u001b[K’ output between 16 and 526 bytes into a destination of size 256\n",
            " 1811 |  \u001b[01;36m\u001b[Ksprintf(sss, \"qpfstats -p %s > %s\", ppp, fslog)\u001b[m\u001b[K ;\n",
            "      |  \u001b[01;36m\u001b[K^~~~~~~~~~~~~~~~~~~~~~~~~~~~~~~~~~~~~~~~~~~~~~~\u001b[m\u001b[K\n",
            "\u001b[01m\u001b[KqpAdm.c:1819:20:\u001b[m\u001b[K \u001b[01;35m\u001b[Kwarning: \u001b[m\u001b[K‘\u001b[01m\u001b[K%s\u001b[m\u001b[K’ directive writing up to 255 bytes into a region of size 253 [\u001b[01;35m\u001b[K\u001b]8;;https://gcc.gnu.org/onlinedocs/gcc/Warning-Options.html#index-Wformat-overflow=\u0007-Wformat-overflow=\u001b]8;;\u0007\u001b[m\u001b[K]\n",
            " 1819 |   sprintf(sss, \"cp \u001b[01;35m\u001b[K%s\u001b[m\u001b[K %s\", \u001b[32m\u001b[Kfsx\u001b[m\u001b[K, fstatsoutname) ;\n",
            "      |                    \u001b[01;35m\u001b[K^~\u001b[m\u001b[K      \u001b[32m\u001b[K~~~\u001b[m\u001b[K\n",
            "\u001b[01m\u001b[KqpAdm.c:1819:3:\u001b[m\u001b[K \u001b[01;36m\u001b[Knote: \u001b[m\u001b[K‘\u001b[01m\u001b[Ksprintf\u001b[m\u001b[K’ output 5 or more bytes (assuming 260) into a destination of size 256\n",
            " 1819 |   \u001b[01;36m\u001b[Ksprintf(sss, \"cp %s %s\", fsx, fstatsoutname)\u001b[m\u001b[K ;\n",
            "      |   \u001b[01;36m\u001b[K^~~~~~~~~~~~~~~~~~~~~~~~~~~~~~~~~~~~~~~~~~~~\u001b[m\u001b[K\n",
            "cc -c -g -p -pg -Wimplicit -I./ -I./nicksrc   -c -o f4rank.o f4rank.c\n",
            "cc -c -g -p -pg -Wimplicit -I./ -I./nicksrc   -c -o eigsubs.o eigsubs.c\n",
            "cc -c -g -p -pg -Wimplicit -I./ -I./nicksrc   -c -o eigx.o eigx.c\n",
            "cc -g  -L./nicksrc  qpAdm.o nicksrc/libnick.a qpsubs.o mcio.o ldsubs.o admutils.o egsubs.o regsubs.o f4rank.o eigsubs.o eigx.o  -lgsl -lopenblas -lm -lnick -o qpAdm\n",
            "cc -c -g -p -pg -Wimplicit -I./ -I./nicksrc   -c -o qpWave.o qpWave.c\n",
            "\u001b[01m\u001b[KqpWave.c:\u001b[m\u001b[K In function ‘\u001b[01m\u001b[Kmkfstats\u001b[m\u001b[K’:\n",
            "\u001b[01m\u001b[KqpWave.c:811:69:\u001b[m\u001b[K \u001b[01;35m\u001b[Kwarning: \u001b[m\u001b[K‘\u001b[01m\u001b[K%s\u001b[m\u001b[K’ directive writing up to 255 bytes into a region of size 205 [\u001b[01;35m\u001b[K\u001b]8;;https://gcc.gnu.org/onlinedocs/gcc/Warning-Options.html#index-Wformat-overflow=\u0007-Wformat-overflow=\u001b]8;;\u0007\u001b[m\u001b[K]\n",
            "  811 |  sprintf(sss, \"fgrep -v fstatsoutname: %s | fgrep -v poplistname: > \u001b[01;35m\u001b[K%s\u001b[m\u001b[K\", parname, \u001b[32m\u001b[Ktpar\u001b[m\u001b[K) ;\n",
            "      |                                                                     \u001b[01;35m\u001b[K^~\u001b[m\u001b[K            \u001b[32m\u001b[K~~~~\u001b[m\u001b[K\n",
            "\u001b[01m\u001b[KqpWave.c:811:2:\u001b[m\u001b[K \u001b[01;36m\u001b[Knote: \u001b[m\u001b[K‘\u001b[01m\u001b[Ksprintf\u001b[m\u001b[K’ output 52 or more bytes (assuming 307) into a destination of size 256\n",
            "  811 |  \u001b[01;36m\u001b[Ksprintf(sss, \"fgrep -v fstatsoutname: %s | fgrep -v poplistname: > %s\", parname, tpar)\u001b[m\u001b[K ;\n",
            "      |  \u001b[01;36m\u001b[K^~~~~~~~~~~~~~~~~~~~~~~~~~~~~~~~~~~~~~~~~~~~~~~~~~~~~~~~~~~~~~~~~~~~~~~~~~~~~~~~~~~~~~\u001b[m\u001b[K\n",
            "\u001b[01m\u001b[KqpWave.c:825:28:\u001b[m\u001b[K \u001b[01;35m\u001b[Kwarning: \u001b[m\u001b[K‘\u001b[01m\u001b[K%s\u001b[m\u001b[K’ directive writing up to 255 bytes into a region of size 244 [\u001b[01;35m\u001b[K\u001b]8;;https://gcc.gnu.org/onlinedocs/gcc/Warning-Options.html#index-Wformat-overflow=\u0007-Wformat-overflow=\u001b]8;;\u0007\u001b[m\u001b[K]\n",
            "  825 |  sprintf(sss, \"qpfstats -p \u001b[01;35m\u001b[K%s\u001b[m\u001b[K > %s\", \u001b[32m\u001b[Kppp\u001b[m\u001b[K, fslog) ;\n",
            "      |                            \u001b[01;35m\u001b[K^~\u001b[m\u001b[K        \u001b[32m\u001b[K~~~\u001b[m\u001b[K\n",
            "\u001b[01m\u001b[KqpWave.c:825:2:\u001b[m\u001b[K \u001b[01;36m\u001b[Knote: \u001b[m\u001b[K‘\u001b[01m\u001b[Ksprintf\u001b[m\u001b[K’ output between 16 and 526 bytes into a destination of size 256\n",
            "  825 |  \u001b[01;36m\u001b[Ksprintf(sss, \"qpfstats -p %s > %s\", ppp, fslog)\u001b[m\u001b[K ;\n",
            "      |  \u001b[01;36m\u001b[K^~~~~~~~~~~~~~~~~~~~~~~~~~~~~~~~~~~~~~~~~~~~~~~\u001b[m\u001b[K\n",
            "\u001b[01m\u001b[KqpWave.c:833:20:\u001b[m\u001b[K \u001b[01;35m\u001b[Kwarning: \u001b[m\u001b[K‘\u001b[01m\u001b[K%s\u001b[m\u001b[K’ directive writing up to 255 bytes into a region of size 253 [\u001b[01;35m\u001b[K\u001b]8;;https://gcc.gnu.org/onlinedocs/gcc/Warning-Options.html#index-Wformat-overflow=\u0007-Wformat-overflow=\u001b]8;;\u0007\u001b[m\u001b[K]\n",
            "  833 |   sprintf(sss, \"cp \u001b[01;35m\u001b[K%s\u001b[m\u001b[K %s\", \u001b[32m\u001b[Kfsx\u001b[m\u001b[K, fstatsoutname) ;\n",
            "      |                    \u001b[01;35m\u001b[K^~\u001b[m\u001b[K      \u001b[32m\u001b[K~~~\u001b[m\u001b[K\n",
            "\u001b[01m\u001b[KqpWave.c:833:3:\u001b[m\u001b[K \u001b[01;36m\u001b[Knote: \u001b[m\u001b[K‘\u001b[01m\u001b[Ksprintf\u001b[m\u001b[K’ output 5 or more bytes (assuming 260) into a destination of size 256\n",
            "  833 |   \u001b[01;36m\u001b[Ksprintf(sss, \"cp %s %s\", fsx, fstatsoutname)\u001b[m\u001b[K ;\n",
            "      |   \u001b[01;36m\u001b[K^~~~~~~~~~~~~~~~~~~~~~~~~~~~~~~~~~~~~~~~~~~~\u001b[m\u001b[K\n",
            "cc -g  -L./nicksrc  qpWave.o nicksrc/libnick.a qpsubs.o mcio.o ldsubs.o admutils.o egsubs.o regsubs.o f4rank.o eigsubs.o eigx.o  -lgsl -lopenblas -lm -lnick -o qpWave\n",
            "cc -c -g -p -pg -Wimplicit -I./ -I./nicksrc   -c -o qp4diff.o qp4diff.c\n",
            "cc -g  -L./nicksrc  qp4diff.o nicksrc/libnick.a qpsubs.o mcio.o ldsubs.o admutils.o egsubs.o regsubs.o  -lgsl -lopenblas -lm -lnick -o qp4diff\n",
            "cc -c -g -p -pg -Wimplicit -I./ -I./nicksrc   -c -o qpdslow.o qpdslow.c\n",
            "cc -g  -L./nicksrc  qpdslow.o nicksrc/libnick.a qpsubs.o mcio.o ldsubs.o admutils.o egsubs.o regsubs.o  -lgsl -lopenblas -lm -lnick -o qpdslow\n",
            "cc -c -g -p -pg -Wimplicit -I./ -I./nicksrc   -c -o dowtjack.o dowtjack.c\n",
            "cc -g  -L./nicksrc  dowtjack.o nicksrc/libnick.a  -lgsl -lopenblas -lm -lnick -o dowtjack\n",
            "sed -e \"s&BBBIN&/content/AdmixTools-master/src/../bin&\" < expfit.templ > expfit.sh\n",
            "chmod +x expfit.sh\n",
            "cc -c -g -p -pg -Wimplicit -I./ -I./nicksrc   -c -o qpBound.o qpBound.c\n",
            "cc -g  -L./nicksrc  qpBound.o nicksrc/libnick.a qpsubs.o mcio.o ldsubs.o admutils.o egsubs.o regsubs.o  -lgsl -lopenblas -lm -lnick -o qpBound\n",
            "cc -c -g -p -pg -Wimplicit -I./ -I./nicksrc   -c -o qpGraph.o qpGraph.c\n",
            "\u001b[01m\u001b[KqpGraph.c:\u001b[m\u001b[K In function ‘\u001b[01m\u001b[Kprintfit\u001b[m\u001b[K’:\n",
            "\u001b[01m\u001b[KqpGraph.c:1531:21:\u001b[m\u001b[K \u001b[01;35m\u001b[Kwarning: \u001b[m\u001b[K‘\u001b[01m\u001b[K%s\u001b[m\u001b[K’ directive writing up to 511 bytes into a region of size 509 [\u001b[01;35m\u001b[K\u001b]8;;https://gcc.gnu.org/onlinedocs/gcc/Warning-Options.html#index-Wformat-overflow=\u0007-Wformat-overflow=\u001b]8;;\u0007\u001b[m\u001b[K]\n",
            " 1531 |   sprintf(ss, \"%s ::\u001b[01;35m\u001b[K%s\u001b[m\u001b[K\\n\", graphname, \u001b[32m\u001b[Kssworst\u001b[m\u001b[K) ;\n",
            "      |                     \u001b[01;35m\u001b[K^~\u001b[m\u001b[K                \u001b[32m\u001b[K~~~~~~~\u001b[m\u001b[K\n",
            "\u001b[01m\u001b[KqpGraph.c:1531:3:\u001b[m\u001b[K \u001b[01;36m\u001b[Knote: \u001b[m\u001b[K‘\u001b[01m\u001b[Ksprintf\u001b[m\u001b[K’ output 5 or more bytes (assuming 516) into a destination of size 512\n",
            " 1531 |   \u001b[01;36m\u001b[Ksprintf(ss, \"%s ::%s\\n\", graphname, ssworst)\u001b[m\u001b[K ;\n",
            "      |   \u001b[01;36m\u001b[K^~~~~~~~~~~~~~~~~~~~~~~~~~~~~~~~~~~~~~~~~~~~\u001b[m\u001b[K\n",
            "\u001b[01m\u001b[KqpGraph.c:\u001b[m\u001b[K In function ‘\u001b[01m\u001b[Kmkfstats\u001b[m\u001b[K’:\n",
            "\u001b[01m\u001b[KqpGraph.c:2928:69:\u001b[m\u001b[K \u001b[01;35m\u001b[Kwarning: \u001b[m\u001b[K‘\u001b[01m\u001b[K%s\u001b[m\u001b[K’ directive writing up to 127 bytes into a region of size 77 [\u001b[01;35m\u001b[K\u001b]8;;https://gcc.gnu.org/onlinedocs/gcc/Warning-Options.html#index-Wformat-overflow=\u0007-Wformat-overflow=\u001b]8;;\u0007\u001b[m\u001b[K]\n",
            " 2928 |  sprintf(sss, \"fgrep -v fstatsoutname: %s | fgrep -v poplistname: > \u001b[01;35m\u001b[K%s\u001b[m\u001b[K\", parname, \u001b[32m\u001b[Ktpar\u001b[m\u001b[K) ;\n",
            "      |                                                                     \u001b[01;35m\u001b[K^~\u001b[m\u001b[K            \u001b[32m\u001b[K~~~~\u001b[m\u001b[K\n",
            "\u001b[01m\u001b[KqpGraph.c:2928:2:\u001b[m\u001b[K \u001b[01;36m\u001b[Knote: \u001b[m\u001b[K‘\u001b[01m\u001b[Ksprintf\u001b[m\u001b[K’ output 52 or more bytes (assuming 179) into a destination of size 128\n",
            " 2928 |  \u001b[01;36m\u001b[Ksprintf(sss, \"fgrep -v fstatsoutname: %s | fgrep -v poplistname: > %s\", parname, tpar)\u001b[m\u001b[K ;\n",
            "      |  \u001b[01;36m\u001b[K^~~~~~~~~~~~~~~~~~~~~~~~~~~~~~~~~~~~~~~~~~~~~~~~~~~~~~~~~~~~~~~~~~~~~~~~~~~~~~~~~~~~~~\u001b[m\u001b[K\n",
            "\u001b[01m\u001b[KqpGraph.c:2946:28:\u001b[m\u001b[K \u001b[01;35m\u001b[Kwarning: \u001b[m\u001b[K‘\u001b[01m\u001b[K%s\u001b[m\u001b[K’ directive writing up to 127 bytes into a region of size 116 [\u001b[01;35m\u001b[K\u001b]8;;https://gcc.gnu.org/onlinedocs/gcc/Warning-Options.html#index-Wformat-overflow=\u0007-Wformat-overflow=\u001b]8;;\u0007\u001b[m\u001b[K]\n",
            " 2946 |  sprintf(sss, \"qpfstats -p \u001b[01;35m\u001b[K%s\u001b[m\u001b[K > /tmp/qqlog:%d\", \u001b[32m\u001b[Kppp\u001b[m\u001b[K, pid) ;\n",
            "      |                            \u001b[01;35m\u001b[K^~\u001b[m\u001b[K                   \u001b[32m\u001b[K~~~\u001b[m\u001b[K\n",
            "\u001b[01m\u001b[KqpGraph.c:2946:2:\u001b[m\u001b[K \u001b[01;36m\u001b[Knote: \u001b[m\u001b[K‘\u001b[01m\u001b[Ksprintf\u001b[m\u001b[K’ output between 28 and 165 bytes into a destination of size 128\n",
            " 2946 |  \u001b[01;36m\u001b[Ksprintf(sss, \"qpfstats -p %s > /tmp/qqlog:%d\", ppp, pid)\u001b[m\u001b[K ;\n",
            "      |  \u001b[01;36m\u001b[K^~~~~~~~~~~~~~~~~~~~~~~~~~~~~~~~~~~~~~~~~~~~~~~~~~~~~~~~\u001b[m\u001b[K\n",
            "\u001b[01m\u001b[KqpGraph.c:2950:20:\u001b[m\u001b[K \u001b[01;35m\u001b[Kwarning: \u001b[m\u001b[K‘\u001b[01m\u001b[K%s\u001b[m\u001b[K’ directive writing up to 127 bytes into a region of size 125 [\u001b[01;35m\u001b[K\u001b]8;;https://gcc.gnu.org/onlinedocs/gcc/Warning-Options.html#index-Wformat-overflow=\u0007-Wformat-overflow=\u001b]8;;\u0007\u001b[m\u001b[K]\n",
            " 2950 |   sprintf(sss, \"cp \u001b[01;35m\u001b[K%s\u001b[m\u001b[K %s\", \u001b[32m\u001b[Kfsx\u001b[m\u001b[K, fstatsoutname) ;\n",
            "      |                    \u001b[01;35m\u001b[K^~\u001b[m\u001b[K      \u001b[32m\u001b[K~~~\u001b[m\u001b[K\n",
            "\u001b[01m\u001b[KqpGraph.c:2950:3:\u001b[m\u001b[K \u001b[01;36m\u001b[Knote: \u001b[m\u001b[K‘\u001b[01m\u001b[Ksprintf\u001b[m\u001b[K’ output 5 or more bytes (assuming 132) into a destination of size 128\n",
            " 2950 |   \u001b[01;36m\u001b[Ksprintf(sss, \"cp %s %s\", fsx, fstatsoutname)\u001b[m\u001b[K ;\n",
            "      |   \u001b[01;36m\u001b[K^~~~~~~~~~~~~~~~~~~~~~~~~~~~~~~~~~~~~~~~~~~~\u001b[m\u001b[K\n",
            "cc -c -g -p -pg -Wimplicit -I./ -I./nicksrc   -c -o gslqp.o gslqp.c\n",
            "cc -c -g -p -pg -Wimplicit -I./ -I./nicksrc   -c -o qpgsubs.o qpgsubs.c\n",
            "\u001b[01m\u001b[Kqpgsubs.c:\u001b[m\u001b[K In function ‘\u001b[01m\u001b[Kprintedgedata\u001b[m\u001b[K’:\n",
            "\u001b[01m\u001b[Kqpgsubs.c:391:14:\u001b[m\u001b[K \u001b[01;35m\u001b[Kwarning: \u001b[m\u001b[Kformat ‘\u001b[01m\u001b[K%s\u001b[m\u001b[K’ expects a matching ‘\u001b[01m\u001b[Kchar *\u001b[m\u001b[K’ argument [\u001b[01;35m\u001b[K\u001b]8;;https://gcc.gnu.org/onlinedocs/gcc/Warning-Options.html#index-Wformat=\u0007-Wformat=\u001b]8;;\u0007\u001b[m\u001b[K]\n",
            "  391 |   printf(\"\u001b[01;35m\u001b[K%18s\u001b[m\u001b[K \") ;\n",
            "      |           \u001b[01;35m\u001b[K~~~^\u001b[m\u001b[K\n",
            "      |              \u001b[01;35m\u001b[K|\u001b[m\u001b[K\n",
            "      |              \u001b[01;35m\u001b[Kchar *\u001b[m\u001b[K\n",
            "cc -g  -L./nicksrc  qpGraph.o nicksrc/libnick.a gslqp.o qpgsubs.o qpsubs.o mcio.o ldsubs.o admutils.o egsubs.o regsubs.o  -lgsl -lopenblas -lm -lnick -o qpGraph\n",
            "cc -c -g -p -pg -Wimplicit -I./ -I./nicksrc   -c -o qpreroot.o qpreroot.c\n",
            "cc -g  -L./nicksrc  qpreroot.o qpgsubs.o qpsubs.o mcio.o ldsubs.o admutils.o egsubs.o regsubs.o  -lgsl -lopenblas -lm -lnick -o qpreroot\n",
            "cc -c -g -p -pg -Wimplicit -I./ -I./nicksrc   -c -o qpff3base.o qpff3base.c\n",
            "cc -g  -L./nicksrc  qpff3base.o nicksrc/libnick.a qpgsubs.o qpsubs.o mcio.o admutils.o egsubs.o regsubs.o ldsubs.o  -lgsl -lopenblas -lm -lnick -o qpff3base\n",
            "cc -c -g -p -pg -Wimplicit -I./ -I./nicksrc   -c -o qpDpart.o qpDpart.c\n",
            "cc -g  -L./nicksrc  qpDpart.o nicksrc/libnick.a qpsubs.o mcio.o ldsubs.o admutils.o egsubs.o regsubs.o  -lgsl -lopenblas -lm -lnick -o qpDpart\n",
            "cc -c -g -p -pg -Wimplicit -I./ -I./nicksrc   -c -o qpfstats.o qpfstats.c\n",
            "cc -g  -L./nicksrc  qpfstats.o nicksrc/libnick.a qpgsubs.o qpsubs.o mcio.o admutils.o egsubs.o regsubs.o ldsubs.o  -lgsl -lopenblas -lm -lnick -o qpfstats\n",
            "cc -c -g -p -pg -Wimplicit -I./ -I./nicksrc   -c -o qpfmv.o qpfmv.c\n",
            "cc -g  -L./nicksrc  qpfmv.o nicksrc/libnick.a qpsubs.o mcio.o ldsubs.o admutils.o egsubs.o regsubs.o eigsubs.o eigx.o  -lgsl -lopenblas -lm -lnick -o qpfmv\n",
            "cc -c -g -p -pg -Wimplicit -I./ -I./nicksrc   -c -o qpmix.o qpmix.c\n",
            "cc -g  -L./nicksrc  qpmix.o nicksrc/libnick.a qpsubs.o mcio.o ldsubs.o admutils.o egsubs.o regsubs.o  -lgsl -lopenblas -lm -lnick -o qpmix\n",
            "cc -c -g -p -pg -Wimplicit -I./ -I./nicksrc   -c -o rolloff.o rolloff.c\n",
            "cc -g  -L./nicksrc  rolloff.o nicksrc/libnick.a qpsubs.o mcio.o ldsubs.o admutils.o egsubs.o regsubs.o  -lgsl -lopenblas -lm -lnick -o rolloff\n",
            "cc -c -g -p -pg -Wimplicit -I./ -I./nicksrc   -c -o rolloffp.o rolloffp.c\n",
            "\u001b[01m\u001b[Krolloffp.c:\u001b[m\u001b[K In function ‘\u001b[01m\u001b[Kmain\u001b[m\u001b[K’:\n",
            "\u001b[01m\u001b[Krolloffp.c:505:29:\u001b[m\u001b[K \u001b[01;35m\u001b[Kwarning: \u001b[m\u001b[Kformat ‘\u001b[01m\u001b[K%f\u001b[m\u001b[K’ expects a matching ‘\u001b[01m\u001b[Kdouble\u001b[m\u001b[K’ argument [\u001b[01;35m\u001b[K\u001b]8;;https://gcc.gnu.org/onlinedocs/gcc/Warning-Options.html#index-Wformat=\u0007-Wformat=\u001b]8;;\u0007\u001b[m\u001b[K]\n",
            "  505 |        printf(\" %12.6f \u001b[01;35m\u001b[K%12.6f\u001b[m\u001b[K\", xnum[s]/znum[s]) ;\n",
            "      |                        \u001b[01;35m\u001b[K~~~~~^\u001b[m\u001b[K\n",
            "      |                             \u001b[01;35m\u001b[K|\u001b[m\u001b[K\n",
            "      |                             \u001b[01;35m\u001b[Kdouble\u001b[m\u001b[K\n",
            "\u001b[01m\u001b[Krolloffp.c:506:29:\u001b[m\u001b[K \u001b[01;35m\u001b[Kwarning: \u001b[m\u001b[Kformat ‘\u001b[01m\u001b[K%f\u001b[m\u001b[K’ expects a matching ‘\u001b[01m\u001b[Kdouble\u001b[m\u001b[K’ argument [\u001b[01;35m\u001b[K\u001b]8;;https://gcc.gnu.org/onlinedocs/gcc/Warning-Options.html#index-Wformat=\u0007-Wformat=\u001b]8;;\u0007\u001b[m\u001b[K]\n",
            "  506 |        printf(\" %12.6f \u001b[01;35m\u001b[K%12.6f\u001b[m\u001b[K\", xden[s]/zden[s]) ;\n",
            "      |                        \u001b[01;35m\u001b[K~~~~~^\u001b[m\u001b[K\n",
            "      |                             \u001b[01;35m\u001b[K|\u001b[m\u001b[K\n",
            "      |                             \u001b[01;35m\u001b[Kdouble\u001b[m\u001b[K\n",
            "cc -g  -L./nicksrc  rolloffp.o nicksrc/libnick.a qpsubs.o mcio.o ldsubs.o admutils.o egsubs.o regsubs.o  -lgsl -lopenblas -lm -lnick -o rolloffp\n",
            "cc -c -g -p -pg -Wimplicit -I./ -I./nicksrc   -c -o convertf.o convertf.c\n",
            "\u001b[01m\u001b[Kconvertf.c:\u001b[m\u001b[K In function ‘\u001b[01m\u001b[Kmain\u001b[m\u001b[K’:\n",
            "\u001b[01m\u001b[Kconvertf.c:432:58:\u001b[m\u001b[K \u001b[01;35m\u001b[Kwarning: \u001b[m\u001b[Kformat ‘\u001b[01m\u001b[K%f\u001b[m\u001b[K’ expects a matching ‘\u001b[01m\u001b[Kdouble\u001b[m\u001b[K’ argument [\u001b[01;35m\u001b[K\u001b]8;;https://gcc.gnu.org/onlinedocs/gcc/Warning-Options.html#index-Wformat=\u0007-Wformat=\u001b]8;;\u0007\u001b[m\u001b[K]\n",
            "  432 |  if (makemiss > 0) printf(\"forcing missing with prob: \u001b[01;35m\u001b[K%9.f\u001b[m\u001b[K\\n\") ;\n",
            "      |                                                       \u001b[01;35m\u001b[K~~~^\u001b[m\u001b[K\n",
            "      |                                                          \u001b[01;35m\u001b[K|\u001b[m\u001b[K\n",
            "      |                                                          \u001b[01;35m\u001b[Kdouble\u001b[m\u001b[K\n",
            "cc -c -g -p -pg -Wimplicit -I./ -I./nicksrc   -c -o h2d.o h2d.c\n",
            "cc -c -g -p -pg -Wimplicit -I./ -I./nicksrc   -c -o exclude.o exclude.c\n",
            "cc -g  -L./nicksrc  convertf.o nicksrc/libnick.a mcio.o admutils.o egsubs.o h2d.o exclude.o  -lgsl -lopenblas -lm -lnick -o convertf\n",
            "cc -c -g -p -pg -Wimplicit -I./ -I./nicksrc   -c -o mergeit.o mergeit.c\n",
            "cc -g  -L./nicksrc  mergeit.o nicksrc/libnick.a mcio.o admutils.o egsubs.o h2d.o exclude.o  -lgsl -lopenblas -lm -lnick -o mergeit\n",
            "cc -c -g -p -pg -Wimplicit -I./ -I./nicksrc   -c -o simpjack2.o simpjack2.c\n",
            "cc -g  -L./nicksrc  simpjack2.o nicksrc/libnick.a  -lgsl -lopenblas -lm -lnick -o simpjack2\n",
            "cc -c -g -p -pg -Wimplicit -I./ -I./nicksrc   -c -o grabpars.o grabpars.c\n",
            "cc -g  -L./nicksrc  grabpars.o nicksrc/libnick.a  -lgsl -lopenblas -lm -lnick -o grabpars\n",
            "cc -c -g -p -pg -Wimplicit -I./ -I./nicksrc   -c -o kimf.o kimf.c\n",
            "\u001b[01m\u001b[Kkimf.c:\u001b[m\u001b[K In function ‘\u001b[01m\u001b[Kalloc_cl\u001b[m\u001b[K’:\n",
            "\u001b[01m\u001b[Kkimf.c:1645:61:\u001b[m\u001b[K \u001b[01;35m\u001b[Kwarning: \u001b[m\u001b[Kformat ‘\u001b[01m\u001b[K%x\u001b[m\u001b[K’ expects argument of type ‘\u001b[01m\u001b[Kunsigned int\u001b[m\u001b[K’, but argument 5 has type ‘\u001b[01m\u001b[Kvoid *\u001b[m\u001b[K’ [\u001b[01;35m\u001b[K\u001b]8;;https://gcc.gnu.org/onlinedocs/gcc/Warning-Options.html#index-Wformat=\u0007-Wformat=\u001b]8;;\u0007\u001b[m\u001b[K]\n",
            " 1645 |   if (verbose) printf(\"largeliter: %d  xcload xchit: %d %d \u001b[01;35m\u001b[K%x\u001b[m\u001b[K score: %12.6f\\n\", largeliter, xcload, xchit, \u001b[32m\u001b[Ktopheap()\u001b[m\u001b[K, lastkimscore) ;\n",
            "      |                                                            \u001b[01;35m\u001b[K~^\u001b[m\u001b[K                                              \u001b[32m\u001b[K~~~~~~~~~\u001b[m\u001b[K\n",
            "      |                                                             \u001b[01;35m\u001b[K|\u001b[m\u001b[K                                              \u001b[32m\u001b[K|\u001b[m\u001b[K\n",
            "      |                                                             \u001b[01;35m\u001b[Kunsigned int\u001b[m\u001b[K                                   \u001b[32m\u001b[Kvoid *\u001b[m\u001b[K\n",
            "      |                                                            \u001b[32m\u001b[K%p\u001b[m\u001b[K\n",
            "\u001b[01m\u001b[Kkimf.c:\u001b[m\u001b[K In function ‘\u001b[01m\u001b[Kbprob1_admix\u001b[m\u001b[K’:\n",
            "\u001b[01m\u001b[Kkimf.c:1953:44:\u001b[m\u001b[K \u001b[01;35m\u001b[Kwarning: \u001b[m\u001b[Kformat ‘\u001b[01m\u001b[K%f\u001b[m\u001b[K’ expects a matching ‘\u001b[01m\u001b[Kdouble\u001b[m\u001b[K’ argument [\u001b[01;35m\u001b[K\u001b]8;;https://gcc.gnu.org/onlinedocs/gcc/Warning-Options.html#index-Wformat=\u0007-Wformat=\u001b]8;;\u0007\u001b[m\u001b[K]\n",
            " 1953 |      printf(\"zz3 %15.9f %12.6f %12.6f \u001b[01;35m\u001b[K%12.6f\u001b[m\u001b[K %12.6f\\n\", y2, y1,  y1*y2) ;\n",
            "      |                                       \u001b[01;35m\u001b[K~~~~~^\u001b[m\u001b[K\n",
            "      |                                            \u001b[01;35m\u001b[K|\u001b[m\u001b[K\n",
            "      |                                            \u001b[01;35m\u001b[Kdouble\u001b[m\u001b[K\n",
            "\u001b[01m\u001b[Kkimf.c:1953:51:\u001b[m\u001b[K \u001b[01;35m\u001b[Kwarning: \u001b[m\u001b[Kformat ‘\u001b[01m\u001b[K%f\u001b[m\u001b[K’ expects a matching ‘\u001b[01m\u001b[Kdouble\u001b[m\u001b[K’ argument [\u001b[01;35m\u001b[K\u001b]8;;https://gcc.gnu.org/onlinedocs/gcc/Warning-Options.html#index-Wformat=\u0007-Wformat=\u001b]8;;\u0007\u001b[m\u001b[K]\n",
            " 1953 |      printf(\"zz3 %15.9f %12.6f %12.6f %12.6f \u001b[01;35m\u001b[K%12.6f\u001b[m\u001b[K\\n\", y2, y1,  y1*y2) ;\n",
            "      |                                              \u001b[01;35m\u001b[K~~~~~^\u001b[m\u001b[K\n",
            "      |                                                   \u001b[01;35m\u001b[K|\u001b[m\u001b[K\n",
            "      |                                                   \u001b[01;35m\u001b[Kdouble\u001b[m\u001b[K\n",
            "cc -c -g -p -pg -Wimplicit -I./ -I./nicksrc   -c -o gslkim.o gslkim.c\n",
            "\u001b[01m\u001b[Kgslkim.c:\u001b[m\u001b[K In function ‘\u001b[01m\u001b[Kgslopt\u001b[m\u001b[K’:\n",
            "\u001b[01m\u001b[Kgslkim.c:120:26:\u001b[m\u001b[K \u001b[01;35m\u001b[Kwarning: \u001b[m\u001b[Kformat ‘\u001b[01m\u001b[K%x\u001b[m\u001b[K’ expects argument of type ‘\u001b[01m\u001b[Kunsigned int\u001b[m\u001b[K’, but argument 2 has type ‘\u001b[01m\u001b[Kvoid *\u001b[m\u001b[K’ [\u001b[01;35m\u001b[K\u001b]8;;https://gcc.gnu.org/onlinedocs/gcc/Warning-Options.html#index-Wformat=\u0007-Wformat=\u001b]8;;\u0007\u001b[m\u001b[K]\n",
            "  120 |         printf(\"zzheap: \u001b[01;35m\u001b[K%x\u001b[m\u001b[K\\n\", \u001b[32m\u001b[Ktopheap()\u001b[m\u001b[K) ;\n",
            "      |                         \u001b[01;35m\u001b[K~^\u001b[m\u001b[K     \u001b[32m\u001b[K~~~~~~~~~\u001b[m\u001b[K\n",
            "      |                          \u001b[01;35m\u001b[K|\u001b[m\u001b[K     \u001b[32m\u001b[K|\u001b[m\u001b[K\n",
            "      |                          \u001b[01;35m\u001b[K|\u001b[m\u001b[K     \u001b[32m\u001b[Kvoid *\u001b[m\u001b[K\n",
            "      |                          \u001b[01;35m\u001b[Kunsigned int\u001b[m\u001b[K\n",
            "      |                         \u001b[32m\u001b[K%p\u001b[m\u001b[K\n",
            "cc -g  -L./nicksrc  kimf.o gslkim.o qpgsubs.o qpsubs.o mcio.o ldsubs.o admutils.o egsubs.o regsubs.o  -lgsl -lopenblas -lm -lnick -o kimf\n",
            "cc -c -g -p -pg -Wimplicit -I./ -I./nicksrc   -c -o gcount.o gcount.c\n",
            "cc -g  -L./nicksrc  gcount.o qpsubs.o mcio.o ldsubs.o admutils.o egsubs.o regsubs.o  -lgsl -lopenblas -lm -lnick -o gcount\n",
            "mkdir -p  /content/AdmixTools-master/src/admixtables\n",
            "echo \"tables made\"  > tables\n",
            "cp twtable  /content/AdmixTools-master/src/admixtables\n",
            "mkdir -p ../bin\n",
            "cp qp3Pop qpDstat qpF4ratio qpAdm qpWave qp4diff qpdslow dowtjack expfit.sh  qpBound qpGraph qpreroot qpff3base qpDpart qpfstats qpfmv qpmix ../bin\n",
            "cp rexpfit.r  wtjack.pl  ../bin\n",
            "cp rolloff rolloffp convertf mergeit simpjack2 grabpars kimf gcount  ../bin\n",
            "cp ../perlsrc/* ../bin \n"
          ]
        }
      ]
    },
    {
      "cell_type": "code",
      "source": [
        "cd ../bin"
      ],
      "metadata": {
        "colab": {
          "base_uri": "https://localhost:8080/"
        },
        "id": "RSaCqxCpLT8P",
        "outputId": "d8a3373f-d3df-453e-8109-4820485db166"
      },
      "execution_count": 5,
      "outputs": [
        {
          "output_type": "stream",
          "name": "stdout",
          "text": [
            "/content/AdmixTools-master/bin\n"
          ]
        }
      ]
    },
    {
      "cell_type": "markdown",
      "source": [
        "# Prepare Reich dataset"
      ],
      "metadata": {
        "id": "mgrQw0ZPMj_o"
      }
    },
    {
      "cell_type": "code",
      "source": [
        "!ls"
      ],
      "metadata": {
        "colab": {
          "base_uri": "https://localhost:8080/"
        },
        "id": "Rye4tW3uOn4q",
        "outputId": "d54fe786-7338-48c0-a957-d35ff64745bc"
      },
      "execution_count": 7,
      "outputs": [
        {
          "output_type": "stream",
          "name": "stdout",
          "text": [
            "convertf  expfit.sh  jackdiff  numlines  qpBound  qpF4ratio  qpGraph   rexpfit.r  wtjack.pl\n",
            "dof4\t  gcount     kimf      qp3Pop\t qpDpart  qpff3base  qpmix     rolloff\t  xtractcol\n",
            "dof4a\t  getresult  mergeit   qp4diff\t qpdslow  qpfmv      qpreroot  rolloffp   xtractcolv\n",
            "dowtjack  grabpars   mkpretty  qpAdm\t qpDstat  qpfstats   qpWave    simpjack2\n"
          ]
        }
      ]
    },
    {
      "cell_type": "code",
      "source": [
        "!wget https://reichdata.hms.harvard.edu/pub/datasets/amh_repo/curated_releases/V54/V54.1.p1/SHARE/public.dir/v54.1.p1_1240K_public.tar\n",
        "!tar -xvf v54.1.p1_1240K_public.tar\n"
      ],
      "metadata": {
        "colab": {
          "base_uri": "https://localhost:8080/"
        },
        "id": "8I9h-Bi8Linj",
        "outputId": "36ac2bbc-1a35-43dd-d6fc-e1ed9d86963c"
      },
      "execution_count": 8,
      "outputs": [
        {
          "output_type": "stream",
          "name": "stdout",
          "text": [
            "--2024-07-16 07:41:45--  https://reichdata.hms.harvard.edu/pub/datasets/amh_repo/curated_releases/V54/V54.1.p1/SHARE/public.dir/v54.1.p1_1240K_public.tar\n",
            "Resolving reichdata.hms.harvard.edu (reichdata.hms.harvard.edu)... 134.174.159.103\n",
            "Connecting to reichdata.hms.harvard.edu (reichdata.hms.harvard.edu)|134.174.159.103|:443... connected.\n",
            "HTTP request sent, awaiting response... 200 OK\n",
            "Length: 5137612800 (4.8G) [application/x-tar]\n",
            "Saving to: ‘v54.1.p1_1240K_public.tar’\n",
            "\n",
            "v54.1.p1_1240K_publ 100%[===================>]   4.78G  46.6MB/s    in 1m 59s  \n",
            "\n",
            "2024-07-16 07:43:45 (41.2 MB/s) - ‘v54.1.p1_1240K_public.tar’ saved [5137612800/5137612800]\n",
            "\n",
            "v54.1.p1_1240K_public.anno\n",
            "v54.1.p1_1240K_public.geno\n",
            "v54.1.p1_1240K_public.snp\n",
            "v54.1.p1_1240K_public.ind\n"
          ]
        }
      ]
    },
    {
      "cell_type": "code",
      "source": [
        "import os\n",
        "\n",
        "# Define the path to the new folder\n",
        "new_folder_path = '/content/AdmixTools-master/bin/dataset'\n",
        "\n",
        "# Create the new folder\n",
        "os.makedirs(new_folder_path, exist_ok=True)\n",
        "\n",
        "# Verify the folder creation\n",
        "if os.path.exists(new_folder_path):\n",
        "    print(f\"Folder '{new_folder_path}' created successfully!\")\n",
        "else:\n",
        "    print(f\"Failed to create folder '{new_folder_path}'.\")\n"
      ],
      "metadata": {
        "colab": {
          "base_uri": "https://localhost:8080/"
        },
        "id": "WGuXvNN2Oyod",
        "outputId": "1cae5444-ca17-40db-c8b8-ff3c481a8bd8"
      },
      "execution_count": 9,
      "outputs": [
        {
          "output_type": "stream",
          "name": "stdout",
          "text": [
            "Folder '/content/AdmixTools-master/bin/dataset' created successfully!\n"
          ]
        }
      ]
    },
    {
      "cell_type": "code",
      "source": [
        "import os\n",
        "import shutil\n",
        "\n",
        "# Define the paths of the files to be moved\n",
        "files_to_move = [\n",
        "    '/content/AdmixTools-master/bin/v54.1.p1_1240K_public.anno',\n",
        "    '/content/AdmixTools-master/bin/v54.1.p1_1240K_public.geno',\n",
        "    '/content/AdmixTools-master/bin/v54.1.p1_1240K_public.ind',\n",
        "    '/content/AdmixTools-master/bin/v54.1.p1_1240K_public.snp'\n",
        "]\n",
        "\n",
        "# Define the destination folder\n",
        "destination_folder = '/content/AdmixTools-master/bin/dataset'\n",
        "\n",
        "# Create the destination folder if it doesn't exist\n",
        "os.makedirs(destination_folder, exist_ok=True)\n",
        "\n",
        "# Move each file to the destination folder\n",
        "for file_path in files_to_move:\n",
        "    shutil.move(file_path, destination_folder)\n",
        "\n",
        "# Verify the move operation\n",
        "moved_files = os.listdir(destination_folder)\n",
        "print(\"Files moved to the new folder:\", moved_files)\n"
      ],
      "metadata": {
        "colab": {
          "base_uri": "https://localhost:8080/"
        },
        "id": "vrWNVgJGQEdD",
        "outputId": "8e976f97-4225-4ded-83aa-dad325833d36"
      },
      "execution_count": 10,
      "outputs": [
        {
          "output_type": "stream",
          "name": "stdout",
          "text": [
            "Files moved to the new folder: ['v54.1.p1_1240K_public.geno', 'v54.1.p1_1240K_public.snp', 'v54.1.p1_1240K_public.anno', 'v54.1.p1_1240K_public.ind']\n"
          ]
        }
      ]
    },
    {
      "cell_type": "code",
      "source": [
        "#inside of bin/dataset\n",
        "!ls"
      ],
      "metadata": {
        "colab": {
          "base_uri": "https://localhost:8080/"
        },
        "id": "iWNN3XH3Sx1U",
        "outputId": "894c7008-45b9-4392-de14-473ac7732011"
      },
      "execution_count": 11,
      "outputs": [
        {
          "output_type": "stream",
          "name": "stdout",
          "text": [
            "convertf  expfit.sh  kimf      qp4diff\tqpDstat    qpGraph    rolloff\t\t\t xtractcol\n",
            "dataset   gcount     mergeit   qpAdm\tqpF4ratio  qpmix      rolloffp\t\t\t xtractcolv\n",
            "dof4\t  getresult  mkpretty  qpBound\tqpff3base  qpreroot   simpjack2\n",
            "dof4a\t  grabpars   numlines  qpDpart\tqpfmv\t   qpWave     v54.1.p1_1240K_public.tar\n",
            "dowtjack  jackdiff   qp3Pop    qpdslow\tqpfstats   rexpfit.r  wtjack.pl\n"
          ]
        }
      ]
    },
    {
      "cell_type": "code",
      "source": [
        "cd dataset/"
      ],
      "metadata": {
        "colab": {
          "base_uri": "https://localhost:8080/"
        },
        "id": "izzxrEBxgKOW",
        "outputId": "d707be88-6ca2-46d7-fc2e-5e0a0019bd36"
      },
      "execution_count": 12,
      "outputs": [
        {
          "output_type": "stream",
          "name": "stdout",
          "text": [
            "/content/AdmixTools-master/bin/dataset\n"
          ]
        }
      ]
    },
    {
      "cell_type": "code",
      "source": [
        "!ls"
      ],
      "metadata": {
        "colab": {
          "base_uri": "https://localhost:8080/"
        },
        "id": "qYYNrxJxgN5r",
        "outputId": "040839dc-33e4-42ca-f096-bef348167e4c"
      },
      "execution_count": 13,
      "outputs": [
        {
          "output_type": "stream",
          "name": "stdout",
          "text": [
            "v54.1.p1_1240K_public.anno  v54.1.p1_1240K_public.ind\n",
            "v54.1.p1_1240K_public.geno  v54.1.p1_1240K_public.snp\n"
          ]
        }
      ]
    },
    {
      "cell_type": "code",
      "source": [
        "cd .."
      ],
      "metadata": {
        "colab": {
          "base_uri": "https://localhost:8080/"
        },
        "id": "PJwS-o8GTIrC",
        "outputId": "d4fb784a-b2de-4a09-d81e-a414b59aeb3b"
      },
      "execution_count": 14,
      "outputs": [
        {
          "output_type": "stream",
          "name": "stdout",
          "text": [
            "/content/AdmixTools-master/bin\n"
          ]
        }
      ]
    },
    {
      "cell_type": "code",
      "source": [
        "!ls"
      ],
      "metadata": {
        "colab": {
          "base_uri": "https://localhost:8080/"
        },
        "id": "U37tOOcEQb5s",
        "outputId": "d18c11bf-2d19-4915-f797-3fbf804794bc"
      },
      "execution_count": 15,
      "outputs": [
        {
          "output_type": "stream",
          "name": "stdout",
          "text": [
            "convertf  expfit.sh  kimf      qp4diff\tqpDstat    qpGraph    rolloff\t\t\t xtractcol\n",
            "dataset   gcount     mergeit   qpAdm\tqpF4ratio  qpmix      rolloffp\t\t\t xtractcolv\n",
            "dof4\t  getresult  mkpretty  qpBound\tqpff3base  qpreroot   simpjack2\n",
            "dof4a\t  grabpars   numlines  qpDpart\tqpfmv\t   qpWave     v54.1.p1_1240K_public.tar\n",
            "dowtjack  jackdiff   qp3Pop    qpdslow\tqpfstats   rexpfit.r  wtjack.pl\n"
          ]
        }
      ]
    },
    {
      "cell_type": "code",
      "source": [
        "import subprocess\n",
        "\n",
        "# Define the path to the executable\n",
        "executable_path = '/content/AdmixTools-master/bin/qpAdm'\n",
        "\n",
        "# Run the executable\n",
        "result = subprocess.run([executable_path], capture_output=True, text=True)\n",
        "\n",
        "# Print the output\n",
        "print(result.stdout)\n",
        "print(result.stderr)\n"
      ],
      "metadata": {
        "colab": {
          "base_uri": "https://localhost:8080/"
        },
        "id": "DPB4FGShQ_5w",
        "outputId": "a0ea7ce3-c8aa-479f-ae7e-05993ffd1070"
      },
      "execution_count": 16,
      "outputs": [
        {
          "output_type": "stream",
          "name": "stdout",
          "text": [
            "\n",
            "Usage: qpAdm [options] <file>\n",
            "   -h          ... Print this message and exit.\n",
            "   -p <file>   ... use parameters from <file> .\n",
            "   -v          ... print version and exit.\n",
            "   -V          ... toggle verbose mode ON.\n",
            "   -V          ... toggle details mode ON.\n",
            "\n"
          ]
        }
      ]
    },
    {
      "cell_type": "markdown",
      "source": [
        "#Prepare target data"
      ],
      "metadata": {
        "id": "JxUMIMzyX4b1"
      }
    },
    {
      "cell_type": "code",
      "source": [
        "# Install required libraries (if not already installed)\n",
        "!apt-get install -y libgsl-dev libopenblas-dev git\n",
        "\n",
        "# Download and unzip PLINK\n",
        "!wget https://s3.amazonaws.com/plink1-assets/plink_linux_x86_64_20231211.zip\n",
        "!unzip plink_linux_x86_64_20231211.zip\n"
      ],
      "metadata": {
        "colab": {
          "base_uri": "https://localhost:8080/"
        },
        "id": "RBnJdxH6R3AA",
        "outputId": "96667474-ab3b-4001-873e-37c8ac4c6829"
      },
      "execution_count": 17,
      "outputs": [
        {
          "output_type": "stream",
          "name": "stdout",
          "text": [
            "Reading package lists... Done\n",
            "Building dependency tree... Done\n",
            "Reading state information... Done\n",
            "libgsl-dev is already the newest version (2.7.1+dfsg-3).\n",
            "libopenblas-dev is already the newest version (0.3.20+ds-1).\n",
            "git is already the newest version (1:2.34.1-1ubuntu1.11).\n",
            "0 upgraded, 0 newly installed, 0 to remove and 46 not upgraded.\n",
            "--2024-07-16 07:46:19--  https://s3.amazonaws.com/plink1-assets/plink_linux_x86_64_20231211.zip\n",
            "Resolving s3.amazonaws.com (s3.amazonaws.com)... 52.217.92.246, 52.217.196.0, 52.217.206.88, ...\n",
            "Connecting to s3.amazonaws.com (s3.amazonaws.com)|52.217.92.246|:443... connected.\n",
            "HTTP request sent, awaiting response... 200 OK\n",
            "Length: 8953953 (8.5M) [application/zip]\n",
            "Saving to: ‘plink_linux_x86_64_20231211.zip’\n",
            "\n",
            "plink_linux_x86_64_ 100%[===================>]   8.54M  14.9MB/s    in 0.6s    \n",
            "\n",
            "2024-07-16 07:46:20 (14.9 MB/s) - ‘plink_linux_x86_64_20231211.zip’ saved [8953953/8953953]\n",
            "\n",
            "Archive:  plink_linux_x86_64_20231211.zip\n",
            "  inflating: plink                   \n",
            "  inflating: LICENSE                 \n",
            "  inflating: toy.ped                 \n",
            "  inflating: toy.map                 \n",
            "  inflating: prettify                \n"
          ]
        }
      ]
    },
    {
      "cell_type": "code",
      "source": [
        "# Add the genome.txt in bin foler"
      ],
      "metadata": {
        "id": "biBf1oAZgsug"
      },
      "execution_count": 19,
      "outputs": []
    },
    {
      "cell_type": "code",
      "source": [
        "!ls"
      ],
      "metadata": {
        "colab": {
          "base_uri": "https://localhost:8080/"
        },
        "id": "ZpTIoFubWJWp",
        "outputId": "515dc3a2-d72d-4075-c21e-786804a55386"
      },
      "execution_count": 20,
      "outputs": [
        {
          "output_type": "stream",
          "name": "stdout",
          "text": [
            "convertf    grabpars\t\t\t     prettify\tqpff3base  rolloffp\n",
            "dataset     jackdiff\t\t\t     qp3Pop\tqpfmv\t   simpjack2\n",
            "dof4\t    kimf\t\t\t     qp4diff\tqpfstats   toy.map\n",
            "dof4a\t    LICENSE\t\t\t     qpAdm\tqpGraph    toy.ped\n",
            "dowtjack    mergeit\t\t\t     qpBound\tqpmix\t   v54.1.p1_1240K_public.tar\n",
            "expfit.sh   mkpretty\t\t\t     qpDpart\tqpreroot   wtjack.pl\n",
            "gcount\t    numlines\t\t\t     qpdslow\tqpWave\t   xtractcol\n",
            "genome.txt  plink\t\t\t     qpDstat\trexpfit.r  xtractcolv\n",
            "getresult   plink_linux_x86_64_20231211.zip  qpF4ratio\trolloff\n"
          ]
        }
      ]
    },
    {
      "cell_type": "markdown",
      "source": [
        "# Make sure the genotype colum has only two alleles not more."
      ],
      "metadata": {
        "id": "LVguE2r74sSX"
      }
    },
    {
      "cell_type": "code",
      "source": [
        "!./plink --23file genome.txt Yusup 1 --make-bed --out Genome_merged"
      ],
      "metadata": {
        "colab": {
          "base_uri": "https://localhost:8080/"
        },
        "id": "8GCqSaQpY-Gq",
        "outputId": "c8f087da-d723-4320-ef69-e80f4fd3cfbf"
      },
      "execution_count": 95,
      "outputs": [
        {
          "output_type": "stream",
          "name": "stdout",
          "text": [
            "PLINK v1.90b7.2 64-bit (11 Dec 2023)           www.cog-genomics.org/plink/1.9/\n",
            "(C) 2005-2023 Shaun Purcell, Christopher Chang   GNU General Public License v3\n",
            "Logging to Genome_merged.log.\n",
            "Options in effect:\n",
            "  --23file genome.txt Yusup 1\n",
            "  --make-bed\n",
            "  --out Genome_merged\n",
            "\n",
            "12978 MB RAM detected; reserving 6489 MB for main workspace.\n",
            "--23file: Genome_merged-temporary.bed + Genome_merged-temporary.bim +\n",
            "Genome_merged-temporary.fam written.\n",
            "Inferred sex: female.\n",
            "604147 variants loaded from .bim file.\n",
            "1 person (0 males, 1 female) loaded from .fam.\n",
            "Using 1 thread (no multithreaded calculations invoked).\n",
            "Before main variant filters, 1 founder and 0 nonfounders present.\n",
            "Calculating allele frequencies... 0%\b\b1%\b\b2%\b\b3%\b\b4%\b\b5%\b\b6%\b\b7%\b\b8%\b\b9%\b\b10%\b\b\b11%\b\b\b12%\b\b\b13%\b\b\b14%\b\b\b15%\b\b\b16%\b\b\b17%\b\b\b18%\b\b\b19%\b\b\b20%\b\b\b21%\b\b\b22%\b\b\b23%\b\b\b24%\b\b\b25%\b\b\b26%\b\b\b27%\b\b\b28%\b\b\b29%\b\b\b30%\b\b\b31%\b\b\b32%\b\b\b33%\b\b\b34%\b\b\b35%\b\b\b36%\b\b\b37%\b\b\b38%\b\b\b39%\b\b\b40%\b\b\b41%\b\b\b42%\b\b\b43%\b\b\b44%\b\b\b45%\b\b\b46%\b\b\b47%\b\b\b48%\b\b\b49%\b\b\b50%\b\b\b51%\b\b\b52%\b\b\b53%\b\b\b54%\b\b\b55%\b\b\b56%\b\b\b57%\b\b\b58%\b\b\b59%\b\b\b60%\b\b\b61%\b\b\b62%\b\b\b63%\b\b\b64%\b\b\b65%\b\b\b66%\b\b\b67%\b\b\b68%\b\b\b69%\b\b\b70%\b\b\b71%\b\b\b72%\b\b\b73%\b\b\b74%\b\b\b75%\b\b\b76%\b\b\b77%\b\b\b78%\b\b\b79%\b\b\b80%\b\b\b81%\b\b\b82%\b\b\b83%\b\b\b84%\b\b\b85%\b\b\b86%\b\b\b87%\b\b\b88%\b\b\b89%\b\b\b90%\b\b\b91%\b\b\b92%\b\b\b93%\b\b\b94%\b\b\b95%\b\b\b96%\b\b\b97%\b\b\b98%\b\b\b99%\b\b\b\b done.\n",
            "Total genotyping rate is 0.894006.\n",
            "604147 variants and 1 person pass filters and QC.\n",
            "Note: No phenotypes present.\n",
            "--make-bed to Genome_merged.bed + Genome_merged.bim + Genome_merged.fam ...\n",
            "0%\b\b1%\b\b2%\b\b3%\b\b4%\b\b5%\b\b6%\b\b7%\b\b8%\b\b9%\b\b10%\b\b\b11%\b\b\b12%\b\b\b13%\b\b\b14%\b\b\b15%\b\b\b16%\b\b\b17%\b\b\b18%\b\b\b19%\b\b\b20%\b\b\b21%\b\b\b22%\b\b\b23%\b\b\b24%\b\b\b25%\b\b\b26%\b\b\b27%\b\b\b28%\b\b\b29%\b\b\b30%\b\b\b31%\b\b\b32%\b\b\b33%\b\b\b34%\b\b\b35%\b\b\b36%\b\b\b37%\b\b\b38%\b\b\b39%\b\b\b40%\b\b\b41%\b\b\b42%\b\b\b43%\b\b\b44%\b\b\b45%\b\b\b46%\b\b\b47%\b\b\b48%\b\b\b49%\b\b\b50%\b\b\b51%\b\b\b52%\b\b\b53%\b\b\b54%\b\b\b55%\b\b\b56%\b\b\b57%\b\b\b58%\b\b\b59%\b\b\b60%\b\b\b61%\b\b\b62%\b\b\b63%\b\b\b64%\b\b\b65%\b\b\b66%\b\b\b67%\b\b\b68%\b\b\b69%\b\b\b70%\b\b\b71%\b\b\b72%\b\b\b73%\b\b\b74%\b\b\b75%\b\b\b76%\b\b\b77%\b\b\b78%\b\b\b79%\b\b\b80%\b\b\b81%\b\b\b82%\b\b\b83%\b\b\b84%\b\b\b85%\b\b\b86%\b\b\b87%\b\b\b88%\b\b\b89%\b\b\b90%\b\b\b91%\b\b\b92%\b\b\b93%\b\b\b94%\b\b\b95%\b\b\b96%\b\b\b97%\b\b\b98%\b\b\b99%\b\b\bdone.\n"
          ]
        }
      ]
    },
    {
      "cell_type": "code",
      "source": [
        "!./plink --bfile Genome_merged  --set-hh-missing --make-bed --out Genome_merged_hh"
      ],
      "metadata": {
        "colab": {
          "base_uri": "https://localhost:8080/"
        },
        "id": "zAJFpOo0bei0",
        "outputId": "0d788f3a-e1ac-4b29-b437-0ce4a22f834f"
      },
      "execution_count": 96,
      "outputs": [
        {
          "output_type": "stream",
          "name": "stdout",
          "text": [
            "PLINK v1.90b7.2 64-bit (11 Dec 2023)           www.cog-genomics.org/plink/1.9/\n",
            "(C) 2005-2023 Shaun Purcell, Christopher Chang   GNU General Public License v3\n",
            "Logging to Genome_merged_hh.log.\n",
            "Options in effect:\n",
            "  --bfile Genome_merged\n",
            "  --make-bed\n",
            "  --out Genome_merged_hh\n",
            "  --set-hh-missing\n",
            "\n",
            "12978 MB RAM detected; reserving 6489 MB for main workspace.\n",
            "604147 variants loaded from .bim file.\n",
            "1 person (0 males, 1 female) loaded from .fam.\n",
            "Using 1 thread (no multithreaded calculations invoked).\n",
            "Before main variant filters, 1 founder and 0 nonfounders present.\n",
            "Calculating allele frequencies... 0%\b\b1%\b\b2%\b\b3%\b\b4%\b\b5%\b\b6%\b\b7%\b\b8%\b\b9%\b\b10%\b\b\b11%\b\b\b12%\b\b\b13%\b\b\b14%\b\b\b15%\b\b\b16%\b\b\b17%\b\b\b18%\b\b\b19%\b\b\b20%\b\b\b21%\b\b\b22%\b\b\b23%\b\b\b24%\b\b\b25%\b\b\b26%\b\b\b27%\b\b\b28%\b\b\b29%\b\b\b30%\b\b\b31%\b\b\b32%\b\b\b33%\b\b\b34%\b\b\b35%\b\b\b36%\b\b\b37%\b\b\b38%\b\b\b39%\b\b\b40%\b\b\b41%\b\b\b42%\b\b\b43%\b\b\b44%\b\b\b45%\b\b\b46%\b\b\b47%\b\b\b48%\b\b\b49%\b\b\b50%\b\b\b51%\b\b\b52%\b\b\b53%\b\b\b54%\b\b\b55%\b\b\b56%\b\b\b57%\b\b\b58%\b\b\b59%\b\b\b60%\b\b\b61%\b\b\b62%\b\b\b63%\b\b\b64%\b\b\b65%\b\b\b66%\b\b\b67%\b\b\b68%\b\b\b69%\b\b\b70%\b\b\b71%\b\b\b72%\b\b\b73%\b\b\b74%\b\b\b75%\b\b\b76%\b\b\b77%\b\b\b78%\b\b\b79%\b\b\b80%\b\b\b81%\b\b\b82%\b\b\b83%\b\b\b84%\b\b\b85%\b\b\b86%\b\b\b87%\b\b\b88%\b\b\b89%\b\b\b90%\b\b\b91%\b\b\b92%\b\b\b93%\b\b\b94%\b\b\b95%\b\b\b96%\b\b\b97%\b\b\b98%\b\b\b99%\b\b\b\b done.\n",
            "Total genotyping rate is 0.894006.\n",
            "604147 variants and 1 person pass filters and QC.\n",
            "Note: No phenotypes present.\n",
            "--make-bed to Genome_merged_hh.bed + Genome_merged_hh.bim +\n",
            "Genome_merged_hh.fam ... 0%\b\b1%\b\b2%\b\b3%\b\b4%\b\b5%\b\b6%\b\b7%\b\b8%\b\b9%\b\b10%\b\b\b11%\b\b\b12%\b\b\b13%\b\b\b14%\b\b\b15%\b\b\b16%\b\b\b17%\b\b\b18%\b\b\b19%\b\b\b20%\b\b\b21%\b\b\b22%\b\b\b23%\b\b\b24%\b\b\b25%\b\b\b26%\b\b\b27%\b\b\b28%\b\b\b29%\b\b\b30%\b\b\b31%\b\b\b32%\b\b\b33%\b\b\b34%\b\b\b35%\b\b\b36%\b\b\b37%\b\b\b38%\b\b\b39%\b\b\b40%\b\b\b41%\b\b\b42%\b\b\b43%\b\b\b44%\b\b\b45%\b\b\b46%\b\b\b47%\b\b\b48%\b\b\b49%\b\b\b50%\b\b\b51%\b\b\b52%\b\b\b53%\b\b\b54%\b\b\b55%\b\b\b56%\b\b\b57%\b\b\b58%\b\b\b59%\b\b\b60%\b\b\b61%\b\b\b62%\b\b\b63%\b\b\b64%\b\b\b65%\b\b\b66%\b\b\b67%\b\b\b68%\b\b\b69%\b\b\b70%\b\b\b71%\b\b\b72%\b\b\b73%\b\b\b74%\b\b\b75%\b\b\b76%\b\b\b77%\b\b\b78%\b\b\b79%\b\b\b80%\b\b\b81%\b\b\b82%\b\b\b83%\b\b\b84%\b\b\b85%\b\b\b86%\b\b\b87%\b\b\b88%\b\b\b89%\b\b\b90%\b\b\b91%\b\b\b92%\b\b\b93%\b\b\b94%\b\b\b95%\b\b\b96%\b\b\b97%\b\b\b98%\b\b\b99%\b\b\bdone.\n"
          ]
        }
      ]
    },
    {
      "cell_type": "code",
      "source": [
        "!wc -l Genome_merged.bim"
      ],
      "metadata": {
        "colab": {
          "base_uri": "https://localhost:8080/"
        },
        "id": "042djNJNc7JR",
        "outputId": "ee2c8d74-b64f-4984-d813-e6a4fe6bc110"
      },
      "execution_count": 97,
      "outputs": [
        {
          "output_type": "stream",
          "name": "stdout",
          "text": [
            "604147 Genome_merged.bim\n"
          ]
        }
      ]
    },
    {
      "cell_type": "code",
      "source": [
        "!ls"
      ],
      "metadata": {
        "colab": {
          "base_uri": "https://localhost:8080/"
        },
        "id": "peH4qJUBfvjw",
        "outputId": "bc01d724-1885-475d-c8f7-18c7edc26d38"
      },
      "execution_count": 98,
      "outputs": [
        {
          "output_type": "stream",
          "name": "stdout",
          "text": [
            "convertf\t\tgenome.txt\t\t\t qpff3base\n",
            "convertf_param.par\tgetresult\t\t\t qpfmv\n",
            "dataset\t\t\tgrabpars\t\t\t qpfstats\n",
            "dof4\t\t\tjackdiff\t\t\t qpGraph\n",
            "dof4a\t\t\tkimf\t\t\t\t qpmix\n",
            "dowtjack\t\tLICENSE\t\t\t\t qpreroot\n",
            "expfit.sh\t\tmergeit\t\t\t\t qpWave\n",
            "fstat_ancestry\t\tmerge_param.par\t\t\t rexpfit.r\n",
            "fstat_genome\t\tmkpretty\t\t\t rolloff\n",
            "gcount\t\t\tnumlines\t\t\t rolloffp\n",
            "Genome_eigenstrat.geno\tplink\t\t\t\t simpjack2\n",
            "Genome_eigenstrat.ind\tplink_linux_x86_64_20231211.zip  toy.map\n",
            "Genome_eigenstrat.snp\tprettify\t\t\t toy.ped\n",
            "Genome_merged.bed\tqp3Pop\t\t\t\t v54.1.p1_1240K_public.tar\n",
            "Genome_merged.bim\tqp4diff\t\t\t\t wtjack.pl\n",
            "Genome_merged.fam\tqpAdm\t\t\t\t xtractcol\n",
            "Genome_merged_hh.bed\tqpBound\t\t\t\t xtractcolv\n",
            "Genome_merged_hh.bim\tqpDpart\t\t\t\t Yusup_merged_with_1240K.geno\n",
            "Genome_merged_hh.fam\tqpdslow\t\t\t\t Yusup_merged_with_1240K.ind\n",
            "Genome_merged_hh.log\tqpDstat\t\t\t\t Yusup_merged_with_1240K.snp\n",
            "Genome_merged.log\tqpF4ratio\n"
          ]
        }
      ]
    },
    {
      "cell_type": "markdown",
      "source": [
        "# prepare convertf_param.par\n",
        "````````````\n",
        "genotypename: /content/AdmixTools-master/bin/Genome_merged.bed\n",
        "snpname: /content/AdmixTools-master/bin/Genome_merged_hh.bim\n",
        "indivname: /content/AdmixTools-master/bin/Genome_merged_hh.fam\n",
        "outputformat: EIGENSTRAT\n",
        "genotypeoutname: /content/AdmixTools-master/bin/Genome_eigenstrat.geno\n",
        "snpoutname: /content/AdmixTools-master/bin/Genome_eigenstrat.snp\n",
        "indivoutname: /content/AdmixTools-master/bin/Genome_eigenstrat.ind\n",
        "````````````"
      ],
      "metadata": {
        "id": "sKMypdHaiBXa"
      }
    },
    {
      "cell_type": "code",
      "source": [
        "!ls"
      ],
      "metadata": {
        "colab": {
          "base_uri": "https://localhost:8080/"
        },
        "id": "mA4AkoZ8jh2O",
        "outputId": "61ac8bd7-3fa8-4b29-e315-8bc7d88a4404"
      },
      "execution_count": 29,
      "outputs": [
        {
          "output_type": "stream",
          "name": "stdout",
          "text": [
            "convertf\t      Genome_merged_hh.log\t       qp3Pop\t  qpWave\n",
            "convertf_param.par    Genome_merged.log\t\t       qp4diff\t  rexpfit.r\n",
            "dataset\t\t      genome.txt\t\t       qpAdm\t  rolloff\n",
            "dof4\t\t      getresult\t\t\t       qpBound\t  rolloffp\n",
            "dof4a\t\t      grabpars\t\t\t       qpDpart\t  simpjack2\n",
            "dowtjack\t      jackdiff\t\t\t       qpdslow\t  toy.map\n",
            "expfit.sh\t      kimf\t\t\t       qpDstat\t  toy.ped\n",
            "gcount\t\t      LICENSE\t\t\t       qpF4ratio  v54.1.p1_1240K_public.tar\n",
            "Genome_merged.bed     mergeit\t\t\t       qpff3base  wtjack.pl\n",
            "Genome_merged.bim     mkpretty\t\t\t       qpfmv\t  xtractcol\n",
            "Genome_merged.fam     numlines\t\t\t       qpfstats   xtractcolv\n",
            "Genome_merged_hh.bed  plink\t\t\t       qpGraph\n",
            "Genome_merged_hh.bim  plink_linux_x86_64_20231211.zip  qpmix\n",
            "Genome_merged_hh.fam  prettify\t\t\t       qpreroot\n"
          ]
        }
      ]
    },
    {
      "cell_type": "code",
      "source": [
        "import subprocess\n",
        "\n",
        "# Define the path to the executable and the parameter file\n",
        "executable_path = '/content/AdmixTools-master/bin/convertf'\n",
        "param_file_path = '/content/AdmixTools-master/bin/convertf_param.par'\n",
        "\n",
        "# Run the executable with the parameter file\n",
        "result = subprocess.run([executable_path, '-p', param_file_path], capture_output=True, text=True)\n",
        "\n",
        "# Print the output\n",
        "print(\"Standard Output:\\n\", result.stdout)\n",
        "print(\"Standard Error:\\n\", result.stderr)"
      ],
      "metadata": {
        "colab": {
          "base_uri": "https://localhost:8080/"
        },
        "id": "uQ8Y6Y62ikrZ",
        "outputId": "5f6168b3-32fa-4b89-c867-bfbb0ba1757f"
      },
      "execution_count": 99,
      "outputs": [
        {
          "output_type": "stream",
          "name": "stdout",
          "text": [
            "Standard Output:\n",
            " parameter file: /content/AdmixTools-master/bin/convertf_param.par\n",
            "genotypename: /content/AdmixTools-master/bin/Genome_merged.bed\n",
            "snpname: /content/AdmixTools-master/bin/Genome_merged_hh.bim\n",
            "indivname: /content/AdmixTools-master/bin/Genome_merged_hh.fam\n",
            "outputformat: EIGENSTRAT\n",
            "genotypeoutname: /content/AdmixTools-master/bin/Genome_eigenstrat.geno\n",
            "snpoutname: /content/AdmixTools-master/bin/Genome_eigenstrat.snp\n",
            "indivoutname: /content/AdmixTools-master/bin/Genome_eigenstrat.ind\n",
            "## /content/AdmixTools-master/bin/convertf version: 5722\n",
            "genetic distance set from physical distance\n",
            "Yusup:1 ignored\n",
            "all individuals set ignore.  Likely input problem (col 6)\n",
            "resetting all individual...\n",
            "genotype file processed\n",
            "before compress: snps: 604147 indivs: 1\n",
            "after compress: snps: 602059 indivs: 1\n",
            "numvalidind:      1  maxmiss:  1001\n",
            "eigenstrat output\n",
            "numsnps output: 602059\n",
            "##end of convertf:        5.116 seconds cpu      372.113 Mbytes in use\n",
            "\n",
            "Standard Error:\n",
            " \n"
          ]
        }
      ]
    },
    {
      "cell_type": "code",
      "source": [
        "!ls"
      ],
      "metadata": {
        "colab": {
          "base_uri": "https://localhost:8080/"
        },
        "id": "iInlpDVY6jdl",
        "outputId": "de81f5ca-61b6-4e83-f089-1839d5919252"
      },
      "execution_count": 100,
      "outputs": [
        {
          "output_type": "stream",
          "name": "stdout",
          "text": [
            "convertf\t\tgenome.txt\t\t\t qpff3base\n",
            "convertf_param.par\tgetresult\t\t\t qpfmv\n",
            "dataset\t\t\tgrabpars\t\t\t qpfstats\n",
            "dof4\t\t\tjackdiff\t\t\t qpGraph\n",
            "dof4a\t\t\tkimf\t\t\t\t qpmix\n",
            "dowtjack\t\tLICENSE\t\t\t\t qpreroot\n",
            "expfit.sh\t\tmergeit\t\t\t\t qpWave\n",
            "fstat_ancestry\t\tmerge_param.par\t\t\t rexpfit.r\n",
            "fstat_genome\t\tmkpretty\t\t\t rolloff\n",
            "gcount\t\t\tnumlines\t\t\t rolloffp\n",
            "Genome_eigenstrat.geno\tplink\t\t\t\t simpjack2\n",
            "Genome_eigenstrat.ind\tplink_linux_x86_64_20231211.zip  toy.map\n",
            "Genome_eigenstrat.snp\tprettify\t\t\t toy.ped\n",
            "Genome_merged.bed\tqp3Pop\t\t\t\t v54.1.p1_1240K_public.tar\n",
            "Genome_merged.bim\tqp4diff\t\t\t\t wtjack.pl\n",
            "Genome_merged.fam\tqpAdm\t\t\t\t xtractcol\n",
            "Genome_merged_hh.bed\tqpBound\t\t\t\t xtractcolv\n",
            "Genome_merged_hh.bim\tqpDpart\t\t\t\t Yusup_merged_with_1240K.geno\n",
            "Genome_merged_hh.fam\tqpdslow\t\t\t\t Yusup_merged_with_1240K.ind\n",
            "Genome_merged_hh.log\tqpDstat\t\t\t\t Yusup_merged_with_1240K.snp\n",
            "Genome_merged.log\tqpF4ratio\n"
          ]
        }
      ]
    },
    {
      "cell_type": "markdown",
      "source": [
        "#prepare merge_param.par\n",
        "```````````\n",
        "geno1: /content/AdmixTools-master/bin/dataset/v54.1.p1_1240K_public.geno\n",
        "snp1: /content/AdmixTools-master/bin/dataset/v54.1.p1_1240K_public.snp\n",
        "ind1: /content/AdmixTools-master/bin/dataset/v54.1.p1_1240K_public.ind\n",
        "\n",
        "geno2: /content/AdmixTools-master/bin/Genome_eigenstrat.geno\n",
        "snp2: /content/AdmixTools-master/bin/Genome_eigenstrat.snp\n",
        "ind2: /content/AdmixTools-master/bin/Genome_eigenstrat.ind\n",
        "\n",
        "genooutfilename: /content/AdmixTools-master/bin/Yusup_merged_with_1240K.geno\n",
        "snpoutfilename: /content/AdmixTools-master/bin/Yusup_merged_with_1240K.snp\n",
        "indoutfilename: /content/AdmixTools-master/bin/Yusup_merged_with_1240K.ind\n",
        "\n",
        "outputformat: EIGENSTRAT\n",
        "```````````"
      ],
      "metadata": {
        "id": "EDLR1Q1vnO4y"
      }
    },
    {
      "cell_type": "code",
      "source": [
        "!ls"
      ],
      "metadata": {
        "colab": {
          "base_uri": "https://localhost:8080/"
        },
        "id": "BRxQ8BsIn94V",
        "outputId": "fbf05733-b46e-41e6-8b7d-755c13235cdc"
      },
      "execution_count": 37,
      "outputs": [
        {
          "output_type": "stream",
          "name": "stdout",
          "text": [
            "convertf\t\tgenome.txt\t\t\t qpDstat\n",
            "convertf_param.par\tgetresult\t\t\t qpF4ratio\n",
            "dataset\t\t\tgrabpars\t\t\t qpff3base\n",
            "dof4\t\t\tjackdiff\t\t\t qpfmv\n",
            "dof4a\t\t\tkimf\t\t\t\t qpfstats\n",
            "dowtjack\t\tLICENSE\t\t\t\t qpGraph\n",
            "expfit.sh\t\tmergeit\t\t\t\t qpmix\n",
            "gcount\t\t\tmerge_param.par\t\t\t qpreroot\n",
            "Genome_eigenstrat.geno\tmkpretty\t\t\t qpWave\n",
            "Genome_eigenstrat.ind\tnumlines\t\t\t rexpfit.r\n",
            "Genome_eigenstrat.snp\tplink\t\t\t\t rolloff\n",
            "Genome_merged.bed\tplink_linux_x86_64_20231211.zip  rolloffp\n",
            "Genome_merged.bim\tprettify\t\t\t simpjack2\n",
            "Genome_merged.fam\tqp3Pop\t\t\t\t toy.map\n",
            "Genome_merged_hh.bed\tqp4diff\t\t\t\t toy.ped\n",
            "Genome_merged_hh.bim\tqpAdm\t\t\t\t v54.1.p1_1240K_public.tar\n",
            "Genome_merged_hh.fam\tqpBound\t\t\t\t wtjack.pl\n",
            "Genome_merged_hh.log\tqpDpart\t\t\t\t xtractcol\n",
            "Genome_merged.log\tqpdslow\t\t\t\t xtractcolv\n"
          ]
        }
      ]
    },
    {
      "cell_type": "code",
      "source": [
        "import subprocess\n",
        "\n",
        "# Define the path to the executable and the parameter file\n",
        "executable_path = '/content/AdmixTools-master/bin/mergeit'\n",
        "param_file_path = '/content/AdmixTools-master/bin/merge_param.par'\n",
        "\n",
        "# Run the executable with the parameter file\n",
        "result = subprocess.run([executable_path, '-p', param_file_path], capture_output=True, text=True)\n",
        "\n",
        "# Print the output\n",
        "print(\"Standard Output:\\n\", result.stdout)\n",
        "print(\"Standard Error:\\n\", result.stderr)\n"
      ],
      "metadata": {
        "id": "3a8fc0ZX-DqO"
      },
      "execution_count": null,
      "outputs": []
    },
    {
      "cell_type": "code",
      "source": [
        "!ls"
      ],
      "metadata": {
        "colab": {
          "base_uri": "https://localhost:8080/"
        },
        "id": "Eh_psF6MofG6",
        "outputId": "5b285d8d-2b4b-4f09-9d36-7cc66da7d071"
      },
      "execution_count": 102,
      "outputs": [
        {
          "output_type": "stream",
          "name": "stdout",
          "text": [
            "convertf\t\tgenome.txt\t\t\t qpff3base\n",
            "convertf_param.par\tgetresult\t\t\t qpfmv\n",
            "dataset\t\t\tgrabpars\t\t\t qpfstats\n",
            "dof4\t\t\tjackdiff\t\t\t qpGraph\n",
            "dof4a\t\t\tkimf\t\t\t\t qpmix\n",
            "dowtjack\t\tLICENSE\t\t\t\t qpreroot\n",
            "expfit.sh\t\tmergeit\t\t\t\t qpWave\n",
            "fstat_ancestry\t\tmerge_param.par\t\t\t rexpfit.r\n",
            "fstat_genome\t\tmkpretty\t\t\t rolloff\n",
            "gcount\t\t\tnumlines\t\t\t rolloffp\n",
            "Genome_eigenstrat.geno\tplink\t\t\t\t simpjack2\n",
            "Genome_eigenstrat.ind\tplink_linux_x86_64_20231211.zip  toy.map\n",
            "Genome_eigenstrat.snp\tprettify\t\t\t toy.ped\n",
            "Genome_merged.bed\tqp3Pop\t\t\t\t v54.1.p1_1240K_public.tar\n",
            "Genome_merged.bim\tqp4diff\t\t\t\t wtjack.pl\n",
            "Genome_merged.fam\tqpAdm\t\t\t\t xtractcol\n",
            "Genome_merged_hh.bed\tqpBound\t\t\t\t xtractcolv\n",
            "Genome_merged_hh.bim\tqpDpart\t\t\t\t Yusup_merged_with_1240K.geno\n",
            "Genome_merged_hh.fam\tqpdslow\t\t\t\t Yusup_merged_with_1240K.ind\n",
            "Genome_merged_hh.log\tqpDstat\t\t\t\t Yusup_merged_with_1240K.snp\n",
            "Genome_merged.log\tqpF4ratio\n"
          ]
        }
      ]
    },
    {
      "cell_type": "code",
      "source": [
        "# Define the path to the file\n",
        "file_path = '/content/AdmixTools-master/bin/Yusup_merged_with_1240K.ind'\n",
        "\n",
        "# Function to read the last few lines of a file\n",
        "def read_last_lines(file_path, num_lines=10):\n",
        "    try:\n",
        "        with open(file_path, 'r') as file:\n",
        "            # Read all lines from the file\n",
        "            lines = file.readlines()\n",
        "            # Print the last few lines\n",
        "            for line in lines[-num_lines:]:\n",
        "                print(line.strip())\n",
        "    except Exception as e:\n",
        "        print(f\"An error occurred: {e}\")\n",
        "\n",
        "# Call the function to read the last few lines\n",
        "read_last_lines(file_path, num_lines=10)"
      ],
      "metadata": {
        "colab": {
          "base_uri": "https://localhost:8080/"
        },
        "id": "TNPMhrWeu-MY",
        "outputId": "7e039610-97d9-4923-bb74-638c99a4baca"
      },
      "execution_count": 103,
      "outputs": [
        {
          "output_type": "stream",
          "name": "stdout",
          "text": [
            "I14343_v54.1_addback M Armenia_EBA_KuraAraxes\n",
            "I8959_v54.1_addback M   Iraq_PPN\n",
            "I17633_v54.1_addback M Albania_BA_IA_oCroat_1d.rel.I16256\n",
            "I18114_v54.1_addback M Romania_C_Bodrogkeresztur_brother.I15617.brother.I7135\n",
            "I19456_v54.1_addback M Bulgaria_EBA\n",
            "S1944.E1.L3_v54.1_addback F Iran_GanjDareh_N\n",
            "S1951.E1.L3_v54.1_addback F Iran_GanjDareh_N\n",
            "S7241.E1.L1_v54.1_addback M Vietnam_N_all\n",
            "I1877_v54.1_addback M Hungary_EN_Starcevo_2_all\n",
            "Yusup:1 F        ???\n"
          ]
        }
      ]
    },
    {
      "cell_type": "markdown",
      "source": [
        "# Make sure to change the last line to\n",
        "```\n",
        "AnyName Gender Yourname\n",
        "```\n"
      ],
      "metadata": {
        "id": "NC3m_kxnRC55"
      }
    },
    {
      "cell_type": "code",
      "source": [
        "# Define the path to the file\n",
        "file_path = '/content/AdmixTools-master/bin/Yusup_merged_with_1240K.ind'\n",
        "\n",
        "# Function to modify the last line of the file\n",
        "def modify_last_line(file_path, new_line):\n",
        "    try:\n",
        "        # Read all lines from the file\n",
        "        with open(file_path, 'r') as file:\n",
        "            lines = file.readlines()\n",
        "\n",
        "        # Modify the last line\n",
        "        if lines:\n",
        "            lines[-1] = new_line + '\\n'\n",
        "\n",
        "        # Write the modified lines back to the file\n",
        "        with open(file_path, 'w') as file:\n",
        "            file.writelines(lines)\n",
        "        print(\"Last line modified successfully.\")\n",
        "    except Exception as e:\n",
        "        print(f\"An error occurred: {e}\")\n",
        "\n",
        "# Define the new last line\n",
        "new_last_line = \"Rozimemet M Yusup\"\n",
        "\n",
        "# Call the function to modify the last line\n",
        "modify_last_line(file_path, new_last_line)\n"
      ],
      "metadata": {
        "colab": {
          "base_uri": "https://localhost:8080/"
        },
        "id": "16BZNwThvTBG",
        "outputId": "7a1397a0-54e3-4f35-e76a-78ebe3050c45"
      },
      "execution_count": 104,
      "outputs": [
        {
          "output_type": "stream",
          "name": "stdout",
          "text": [
            "Last line modified successfully.\n"
          ]
        }
      ]
    },
    {
      "cell_type": "code",
      "source": [
        "# Define the path to the file\n",
        "file_path = '/content/AdmixTools-master/bin/Yusup_merged_with_1240K.ind'\n",
        "\n",
        "# Function to read the last few lines of a file\n",
        "def read_last_lines(file_path, num_lines=10):\n",
        "    try:\n",
        "        with open(file_path, 'r') as file:\n",
        "            # Read all lines from the file\n",
        "            lines = file.readlines()\n",
        "            # Print the last few lines\n",
        "            for line in lines[-num_lines:]:\n",
        "                print(line.strip())\n",
        "    except Exception as e:\n",
        "        print(f\"An error occurred: {e}\")\n",
        "\n",
        "# Call the function to read the last few lines\n",
        "read_last_lines(file_path, num_lines=10)"
      ],
      "metadata": {
        "colab": {
          "base_uri": "https://localhost:8080/"
        },
        "id": "kmXK0Z2Jv1_s",
        "outputId": "4c5c3611-e93f-4c94-d0dd-1f4261f9a7b3"
      },
      "execution_count": 105,
      "outputs": [
        {
          "output_type": "stream",
          "name": "stdout",
          "text": [
            "I14343_v54.1_addback M Armenia_EBA_KuraAraxes\n",
            "I8959_v54.1_addback M   Iraq_PPN\n",
            "I17633_v54.1_addback M Albania_BA_IA_oCroat_1d.rel.I16256\n",
            "I18114_v54.1_addback M Romania_C_Bodrogkeresztur_brother.I15617.brother.I7135\n",
            "I19456_v54.1_addback M Bulgaria_EBA\n",
            "S1944.E1.L3_v54.1_addback F Iran_GanjDareh_N\n",
            "S1951.E1.L3_v54.1_addback F Iran_GanjDareh_N\n",
            "S7241.E1.L1_v54.1_addback M Vietnam_N_all\n",
            "I1877_v54.1_addback M Hungary_EN_Starcevo_2_all\n",
            "Rozimemet M Yusup\n"
          ]
        }
      ]
    },
    {
      "cell_type": "code",
      "source": [
        "import os\n",
        "\n",
        "# Define the paths for the new folders\n",
        "bin_directory = '/content/AdmixTools-master/bin'\n",
        "fstat_genome_path = os.path.join(bin_directory, 'fstat_genome')\n",
        "fstat_ancestry_path = os.path.join(bin_directory, 'fstat_ancestry')\n",
        "\n",
        "# Create the new folders\n",
        "os.makedirs(fstat_genome_path, exist_ok=True)\n",
        "os.makedirs(fstat_ancestry_path, exist_ok=True)\n",
        "\n",
        "print(\"Folders 'fstat_genome' and 'fstat_ancestry' created successfully.\")\n"
      ],
      "metadata": {
        "colab": {
          "base_uri": "https://localhost:8080/"
        },
        "id": "bn1ZJGdjx1mo",
        "outputId": "bd8ff4af-d636-4ecf-c71a-4490fe4ea52e"
      },
      "execution_count": 89,
      "outputs": [
        {
          "output_type": "stream",
          "name": "stdout",
          "text": [
            "Folders 'fstat_genome' and 'fstat_ancestry' created successfully.\n"
          ]
        }
      ]
    },
    {
      "cell_type": "code",
      "source": [
        "!ls"
      ],
      "metadata": {
        "colab": {
          "base_uri": "https://localhost:8080/"
        },
        "id": "wrRIGxtTv417",
        "outputId": "875b68bd-c1de-4e6b-acf3-e0101392b9fd"
      },
      "execution_count": 90,
      "outputs": [
        {
          "output_type": "stream",
          "name": "stdout",
          "text": [
            "convertf\t\tgenome.txt\t\t\t qpff3base\n",
            "convertf_param.par\tgetresult\t\t\t qpfmv\n",
            "dataset\t\t\tgrabpars\t\t\t qpfstats\n",
            "dof4\t\t\tjackdiff\t\t\t qpGraph\n",
            "dof4a\t\t\tkimf\t\t\t\t qpmix\n",
            "dowtjack\t\tLICENSE\t\t\t\t qpreroot\n",
            "expfit.sh\t\tmergeit\t\t\t\t qpWave\n",
            "fstat_ancestry\t\tmerge_param.par\t\t\t rexpfit.r\n",
            "fstat_genome\t\tmkpretty\t\t\t rolloff\n",
            "gcount\t\t\tnumlines\t\t\t rolloffp\n",
            "Genome_eigenstrat.geno\tplink\t\t\t\t simpjack2\n",
            "Genome_eigenstrat.ind\tplink_linux_x86_64_20231211.zip  toy.map\n",
            "Genome_eigenstrat.snp\tprettify\t\t\t toy.ped\n",
            "Genome_merged.bed\tqp3Pop\t\t\t\t v54.1.p1_1240K_public.tar\n",
            "Genome_merged.bim\tqp4diff\t\t\t\t wtjack.pl\n",
            "Genome_merged.fam\tqpAdm\t\t\t\t xtractcol\n",
            "Genome_merged_hh.bed\tqpBound\t\t\t\t xtractcolv\n",
            "Genome_merged_hh.bim\tqpDpart\t\t\t\t Yusup_merged_with_1240K.geno\n",
            "Genome_merged_hh.fam\tqpdslow\t\t\t\t Yusup_merged_with_1240K.ind\n",
            "Genome_merged_hh.log\tqpDstat\t\t\t\t Yusup_merged_with_1240K.snp\n",
            "Genome_merged.log\tqpF4ratio\n"
          ]
        }
      ]
    },
    {
      "cell_type": "code",
      "source": [
        "cd fstat_genome/"
      ],
      "metadata": {
        "colab": {
          "base_uri": "https://localhost:8080/"
        },
        "id": "-pesiqnKxTBl",
        "outputId": "0a2094d4-157e-4710-870b-02092c502acb"
      },
      "execution_count": 46,
      "outputs": [
        {
          "output_type": "stream",
          "name": "stdout",
          "text": [
            "/content/AdmixTools-master/bin/fstat_genome\n"
          ]
        }
      ]
    },
    {
      "cell_type": "code",
      "source": [
        "# Define the content for the parqpfstat.txt file\n",
        "content = \"\"\"\n",
        "DIR:                 /content/AdmixTools-master/bin\n",
        "S1:                  10Oct21\n",
        "S1X:                 10Oct21\n",
        "indivname:           /content/AdmixTools-master/bin/Yusup_merged_with_1240K.ind\n",
        "snpname:             /content/AdmixTools-master/bin/Yusup_merged_with_1240K.snp\n",
        "genotypename:        /content/AdmixTools-master/bin/Yusup_merged_with_1240K.geno\n",
        "poplistname:         /content/AdmixTools-master/bin/fstat_genome/lista.txt\n",
        "fstatsoutname:       /content/AdmixTools-master/bin/fstat_genome/fstatsa.txt\n",
        "allsnps:             YES\n",
        "inbreed:             NO\n",
        "scale:               NO\n",
        "\"\"\"\n",
        "\n",
        "# Define the path for the parqpfstat.txt file\n",
        "file_path = '/content/AdmixTools-master/bin/fstat_genome/parqpfstat.txt'\n",
        "\n",
        "# Write the content to the parqpfstat.txt file\n",
        "with open(file_path, 'w') as file:\n",
        "    file.write(content)\n",
        "\n",
        "print(f\"'parqpfstat.txt' created successfully at {file_path}.\")\n"
      ],
      "metadata": {
        "colab": {
          "base_uri": "https://localhost:8080/"
        },
        "id": "kRiYoM8O0k9W",
        "outputId": "9c857475-7785-43fa-9997-4bdffb3a0795"
      },
      "execution_count": 61,
      "outputs": [
        {
          "output_type": "stream",
          "name": "stdout",
          "text": [
            "'parqpfstat.txt' created successfully at /content/AdmixTools-master/bin/fstat_genome/parqpfstat.txt.\n"
          ]
        }
      ]
    },
    {
      "cell_type": "code",
      "source": [
        "# Define the content for lista.txt\n",
        "content = \"\"\"\n",
        "Yusup\n",
        "Mbuti.DG\n",
        "Irula.DG\n",
        "Turkey_N\n",
        "Laos_LN_BA.SG\n",
        "China_Tianyuan\n",
        "Ami.DG\n",
        "Karitiana.DG\n",
        "Iran_GanjDareh_N\n",
        "Iran_C_SehGabi\n",
        "Iran_ShahrISokhta_BA1\n",
        "Iran_ShahrISokhta_BA2\n",
        "Turkmenistan_Gonur_BA_1\n",
        "Dai.DG\n",
        "Russia_Ust_Ishim_HG.DG\n",
        "Chukchi.DG\n",
        "Saami.DG\n",
        "Georgia_Kotias.SG\n",
        "Russia_Kostenki14.SG\n",
        "Russia_Tyumen_HG\n",
        "Russia_MLBA_Sintashta\n",
        "Russia_DevilsCave_N.SG\n",
        "Luxembourg_Loschbour.DG\n",
        "Czech_BellBeaker\n",
        "Kazakhstan_Central_Saka.SG\n",
        "Portugal_MN.SG\n",
        "Kazakhstan_Andronovo.SG\n",
        "\"\"\"\n",
        "\n",
        "# Define the path for the lista.txt file\n",
        "file_path = '/content/AdmixTools-master/bin/fstat_genome/lista.txt'\n",
        "\n",
        "# Write the content to the lista.txt file\n",
        "with open(file_path, 'w') as file:\n",
        "    file.write(content)\n",
        "\n",
        "print(f\"'lista.txt' created successfully at {file_path}.\")\n"
      ],
      "metadata": {
        "colab": {
          "base_uri": "https://localhost:8080/"
        },
        "id": "aDcACJz51pFd",
        "outputId": "d2f2a7c0-eec5-4cf8-f56d-90be4deee2d1"
      },
      "execution_count": 116,
      "outputs": [
        {
          "output_type": "stream",
          "name": "stdout",
          "text": [
            "'lista.txt' created successfully at /content/AdmixTools-master/bin/fstat_genome/lista.txt.\n"
          ]
        }
      ]
    },
    {
      "cell_type": "code",
      "source": [
        "# Define the file paths\n",
        "lista_file = '/content/AdmixTools-master/bin/fstat_genome/lista.txt'\n",
        "parqpfstat_file = '/content/AdmixTools-master/bin/fstat_genome/parqpfstat.txt'\n",
        "\n",
        "# Function to read a few lines from a file\n",
        "def read_few_lines(file_path, num_lines=11):\n",
        "    try:\n",
        "        with open(file_path, 'r') as file:\n",
        "            lines = [next(file).strip() for _ in range(num_lines)]\n",
        "        return lines\n",
        "    except FileNotFoundError:\n",
        "        return []\n",
        "\n",
        "# Read a few lines from lista.txt\n",
        "print(f\"Reading first 11 lines from {lista_file}:\")\n",
        "lines_lista = read_few_lines(lista_file)\n",
        "for line in lines_lista:\n",
        "    print(line)\n",
        "print()\n",
        "\n",
        "# Read a few lines from parqpfstat.txt\n",
        "print(f\"Reading first 11 lines from {parqpfstat_file}:\")\n",
        "lines_parqpfstat = read_few_lines(parqpfstat_file)\n",
        "for line in lines_parqpfstat:\n",
        "    print(line)\n"
      ],
      "metadata": {
        "colab": {
          "base_uri": "https://localhost:8080/"
        },
        "id": "suR4T2mX3UnU",
        "outputId": "8ddb6494-d101-4473-d44f-fe7f733cccb9"
      },
      "execution_count": 117,
      "outputs": [
        {
          "output_type": "stream",
          "name": "stdout",
          "text": [
            "Reading first 11 lines from /content/AdmixTools-master/bin/fstat_genome/lista.txt:\n",
            "\n",
            "Pop1\n",
            "Yusup\n",
            "Mbuti.DG\n",
            "Irula.DG\n",
            "Turkey_N\n",
            "Laos_LN_BA.SG\n",
            "China_Tianyuan\n",
            "Ami.DG\n",
            "Karitiana.DG\n",
            "Iran_GanjDareh_N\n",
            "\n",
            "Reading first 11 lines from /content/AdmixTools-master/bin/fstat_genome/parqpfstat.txt:\n",
            "DIR:                 /content/AdmixTools-master/bin\n",
            "S1:                  10Oct21\n",
            "S1X:                 10Oct21\n",
            "indivname:           /content/AdmixTools-master/bin/Yusup_merged_with_1240K.ind\n",
            "snpname:             /content/AdmixTools-master/bin/Yusup_merged_with_1240K.snp\n",
            "genotypename:        /content/AdmixTools-master/bin/Yusup_merged_with_1240K.geno\n",
            "poplistname:         /content/AdmixTools-master/bin/fstat_genome/lista.txt\n",
            "fstatsoutname:       /content/AdmixTools-master/bin/fstat_genome/fstatsa.txt\n",
            "allsnps:             YES\n",
            "inbreed:             NO\n",
            "scale:               NO\n"
          ]
        }
      ]
    },
    {
      "cell_type": "code",
      "source": [
        "import shutil\n",
        "\n",
        "# Define paths for source and destination files\n",
        "source_parqpfstat = '/content/AdmixTools-master/bin/fstat_genome/parqpfstat.txt'\n",
        "source_lista = '/content/AdmixTools-master/bin/fstat_genome/lista.txt'\n",
        "\n",
        "dest_parqpfstat = '/content/AdmixTools-master/bin/fstat_ancestry/parqpfstat.txt'\n",
        "dest_lista = '/content/AdmixTools-master/bin/fstat_ancestry/lista.txt'\n",
        "\n",
        "# Copy parqpfstat.txt\n",
        "shutil.copyfile(source_parqpfstat, dest_parqpfstat)\n",
        "print(f\"Copied {source_parqpfstat} to {dest_parqpfstat}\")\n",
        "\n",
        "# Copy lista.txt\n",
        "shutil.copyfile(source_lista, dest_lista)\n",
        "print(f\"Copied {source_lista} to {dest_lista}\")\n"
      ],
      "metadata": {
        "colab": {
          "base_uri": "https://localhost:8080/"
        },
        "id": "NkZUQSr89jmz",
        "outputId": "e5dbad1a-30ca-481a-d062-141ec86d147d"
      },
      "execution_count": 118,
      "outputs": [
        {
          "output_type": "stream",
          "name": "stdout",
          "text": [
            "Copied /content/AdmixTools-master/bin/fstat_genome/parqpfstat.txt to /content/AdmixTools-master/bin/fstat_ancestry/parqpfstat.txt\n",
            "Copied /content/AdmixTools-master/bin/fstat_genome/lista.txt to /content/AdmixTools-master/bin/fstat_ancestry/lista.txt\n"
          ]
        }
      ]
    },
    {
      "cell_type": "code",
      "source": [
        "!ls"
      ],
      "metadata": {
        "colab": {
          "base_uri": "https://localhost:8080/"
        },
        "id": "TTX28PPkI0ZM",
        "outputId": "f1699a22-4573-4e42-f65e-d1c6166d814e"
      },
      "execution_count": 119,
      "outputs": [
        {
          "output_type": "stream",
          "name": "stdout",
          "text": [
            "convertf\t\tgenome.txt\t\t\t qpff3base\n",
            "convertf_param.par\tgetresult\t\t\t qpfmv\n",
            "dataset\t\t\tgrabpars\t\t\t qpfstats\n",
            "dof4\t\t\tjackdiff\t\t\t qpGraph\n",
            "dof4a\t\t\tkimf\t\t\t\t qpmix\n",
            "dowtjack\t\tLICENSE\t\t\t\t qpreroot\n",
            "expfit.sh\t\tmergeit\t\t\t\t qpWave\n",
            "fstat_ancestry\t\tmerge_param.par\t\t\t rexpfit.r\n",
            "fstat_genome\t\tmkpretty\t\t\t rolloff\n",
            "gcount\t\t\tnumlines\t\t\t rolloffp\n",
            "Genome_eigenstrat.geno\tplink\t\t\t\t simpjack2\n",
            "Genome_eigenstrat.ind\tplink_linux_x86_64_20231211.zip  toy.map\n",
            "Genome_eigenstrat.snp\tprettify\t\t\t toy.ped\n",
            "Genome_merged.bed\tqp3Pop\t\t\t\t v54.1.p1_1240K_public.tar\n",
            "Genome_merged.bim\tqp4diff\t\t\t\t wtjack.pl\n",
            "Genome_merged.fam\tqpAdm\t\t\t\t xtractcol\n",
            "Genome_merged_hh.bed\tqpBound\t\t\t\t xtractcolv\n",
            "Genome_merged_hh.bim\tqpDpart\t\t\t\t Yusup_merged_with_1240K.geno\n",
            "Genome_merged_hh.fam\tqpdslow\t\t\t\t Yusup_merged_with_1240K.ind\n",
            "Genome_merged_hh.log\tqpDstat\t\t\t\t Yusup_merged_with_1240K.snp\n",
            "Genome_merged.log\tqpF4ratio\n"
          ]
        }
      ]
    },
    {
      "cell_type": "code",
      "source": [
        "!./qpfstats -p fstat_genome/parqpfstat.txt > fstat_genome/qpfstatlog.txt\n",
        "!./qpfstats -p fstat_ancestry/parqpfstat.txt > fstat_ancestry/qpfstatlog.txt"
      ],
      "metadata": {
        "id": "IcyTiZzS38Xc"
      },
      "execution_count": 107,
      "outputs": []
    },
    {
      "cell_type": "code",
      "source": [
        "fstatsa_file = '/content/AdmixTools-master/bin/fstat_genome/fstatsa.txt'\n",
        "\n",
        "# Function to read a few lines from a file\n",
        "def read_few_lines(file_path, num_lines=10):\n",
        "    try:\n",
        "        with open(file_path, 'r') as file:\n",
        "            lines = [next(file).strip() for _ in range(num_lines)]\n",
        "        return lines\n",
        "    except FileNotFoundError:\n",
        "        return []\n",
        "\n",
        "# Read a few lines from parqpfstat.txt\n",
        "print(f\"Reading first 50 lines from {fstatsa_file}:\")\n",
        "lines_fstatsa = read_few_lines(fstatsa_file)\n",
        "for line in lines_fstatsa:\n",
        "    print(line)"
      ],
      "metadata": {
        "colab": {
          "base_uri": "https://localhost:8080/"
        },
        "id": "mvbeGvbkStbw",
        "outputId": "06e09351-33b2-4ceb-f76c-27e1e8620e78"
      },
      "execution_count": 124,
      "outputs": [
        {
          "output_type": "stream",
          "name": "stdout",
          "text": [
            "Reading first 50 lines from /content/AdmixTools-master/bin/fstat_genome/fstatsa.txt:\n",
            "##fbasis.  basepop: Yusup ::  f3*1000 covar*1000000\n",
            "Mbuti.DG        Mbuti.DG     70.774788\n",
            "Mbuti.DG        Irula.DG      2.907756\n",
            "Mbuti.DG        Turkey_N      2.325529\n",
            "Mbuti.DG   Laos_LN_BA.SG      0.555749\n",
            "Mbuti.DG  China_Tianyuan      5.851766\n",
            "Mbuti.DG          Ami.DG     -1.841830\n",
            "Mbuti.DG    Karitiana.DG     -0.902632\n",
            "Mbuti.DG Iran_GanjDareh_N      3.979722\n",
            "Mbuti.DG  Iran_C_SehGabi      3.089666\n"
          ]
        }
      ]
    },
    {
      "cell_type": "markdown",
      "source": [
        "###fbasis.,basepop:,Yusup,::,f3*1000,covar*1000000\n",
        "1. **Population with a Single Sample (23andme, LivingDNA, MyHeritage...so on)**:\n",
        "   - This refers to a scenario where you have genetic data from only one individual representing a particular population. This could be due to various reasons such as limited sampling, difficulty in obtaining genetic material, or the uniqueness of the individual within its population.\n",
        "\n",
        "2. **F2 Statistics**:\n",
        "   - F2 statistics are a type of genetic statistic used to measure genetic distances and relationships between populations. They are crucial in determining the level of genetic admixture or ancestry between populations.\n",
        "\n",
        "3. **Impact of Single Sample on F2 Statistics**:\n",
        "   - When you have a population represented by a single sample, certain F2 statistics cannot be accurately computed. This is because F2 statistics typically require genetic information from multiple individuals within each population to calculate reliable estimates.\n",
        "   - In cases where F2 statistics cannot be evaluated due to the single-sample population, these statistics are reported with a very large variance, often set to 100. This high variance indicates uncertainty in the estimate and signifies that the value is not reliable for making robust conclusions about genetic relationships or admixture.\n",
        "\n",
        "4. **Effect on qpGraph**:\n",
        "   - `qpGraph` is a tool used to construct and analyze admixture graphs based on genetic data, specifically using F2 statistics among other parameters.\n",
        "   - When F2 statistics are undetermined or have high variance due to single-sample populations, the edges (connections) in the admixture graph that rely on these statistics may be set to 0.\n",
        "   - Setting an edge to 0 in qpGraph indicates that the genetic relationship or admixture between populations represented by that edge is uncertain or undetermined due to the lack of reliable F2 statistics.\n",
        "\n",
        "In summary, having a population with a single sample affects the ability to compute certain F2 statistics accurately. These statistics are crucial inputs for tools like `qpGraph`, and when they cannot be reliably calculated, the corresponding edges in the admixture graph are considered undetermined (set to 0). This highlights the importance of having sufficient and representative genetic data for each population to obtain meaningful insights into their genetic relationships and admixture history."
      ],
      "metadata": {
        "id": "ovghzgAmQjZR"
      }
    },
    {
      "cell_type": "code",
      "source": [],
      "metadata": {
        "id": "kHAjF728FFhS"
      },
      "execution_count": null,
      "outputs": []
    }
  ]
}